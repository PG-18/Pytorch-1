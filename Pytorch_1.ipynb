{
  "nbformat": 4,
  "nbformat_minor": 0,
  "metadata": {
    "colab": {
      "provenance": [],
      "gpuType": "T4",
      "authorship_tag": "ABX9TyO6UNbzKscoC1TakZsvHSXd",
      "include_colab_link": true
    },
    "kernelspec": {
      "name": "python3",
      "display_name": "Python 3"
    },
    "language_info": {
      "name": "python"
    },
    "accelerator": "GPU"
  },
  "cells": [
    {
      "cell_type": "markdown",
      "metadata": {
        "id": "view-in-github",
        "colab_type": "text"
      },
      "source": [
        "<a href=\"https://colab.research.google.com/github/PG-18/Pytorch-1/blob/main/Pytorch_1.ipynb\" target=\"_parent\"><img src=\"https://colab.research.google.com/assets/colab-badge.svg\" alt=\"Open In Colab\"/></a>"
      ]
    },
    {
      "cell_type": "code",
      "execution_count": 29,
      "metadata": {
        "id": "p92M-PiT7_f0",
        "colab": {
          "base_uri": "https://localhost:8080/"
        },
        "outputId": "f89a5ba1-cbca-4da4-a45e-cf4bb79e3e03"
      },
      "outputs": [
        {
          "output_type": "stream",
          "name": "stdout",
          "text": [
            "2.1.0+cu121\n"
          ]
        }
      ],
      "source": [
        "import torch\n",
        "import pandas as pd\n",
        "import numpy as np\n",
        "import matplotlib.pyplot as plt\n",
        "\n",
        "print(torch.__version__)"
      ]
    },
    {
      "cell_type": "markdown",
      "source": [],
      "metadata": {
        "id": "OZtbjx7A5rpD"
      }
    },
    {
      "cell_type": "markdown",
      "source": [
        "# Creating tensors\n"
      ],
      "metadata": {
        "id": "C7fDtDZQ5uHI"
      }
    },
    {
      "cell_type": "code",
      "source": [
        "scalar=torch.tensor(7)\n",
        "scalar"
      ],
      "metadata": {
        "colab": {
          "base_uri": "https://localhost:8080/"
        },
        "id": "1lWlCdWb5z7B",
        "outputId": "9411e3d2-71a2-48d9-dc09-b144fc076a39"
      },
      "execution_count": 30,
      "outputs": [
        {
          "output_type": "execute_result",
          "data": {
            "text/plain": [
              "tensor(7)"
            ]
          },
          "metadata": {},
          "execution_count": 30
        }
      ]
    },
    {
      "cell_type": "code",
      "source": [
        "scalar.ndim"
      ],
      "metadata": {
        "colab": {
          "base_uri": "https://localhost:8080/"
        },
        "id": "Q-mrQgsZ6S45",
        "outputId": "996644b9-2db5-4342-9e32-6bfad6f84ba8"
      },
      "execution_count": 31,
      "outputs": [
        {
          "output_type": "execute_result",
          "data": {
            "text/plain": [
              "0"
            ]
          },
          "metadata": {},
          "execution_count": 31
        }
      ]
    },
    {
      "cell_type": "code",
      "source": [
        "scalar.item()"
      ],
      "metadata": {
        "colab": {
          "base_uri": "https://localhost:8080/"
        },
        "id": "ojVO04uT6VK9",
        "outputId": "ba6a5e5f-05f3-4c26-c8d7-d1ab29cb9498"
      },
      "execution_count": 32,
      "outputs": [
        {
          "output_type": "execute_result",
          "data": {
            "text/plain": [
              "7"
            ]
          },
          "metadata": {},
          "execution_count": 32
        }
      ]
    },
    {
      "cell_type": "code",
      "source": [
        "vector=torch.tensor([7,7])\n",
        "vector"
      ],
      "metadata": {
        "colab": {
          "base_uri": "https://localhost:8080/"
        },
        "id": "bYEgH47C6Y02",
        "outputId": "5407d137-4149-4fd4-d5b2-e9bb46da2d94"
      },
      "execution_count": 33,
      "outputs": [
        {
          "output_type": "execute_result",
          "data": {
            "text/plain": [
              "tensor([7, 7])"
            ]
          },
          "metadata": {},
          "execution_count": 33
        }
      ]
    },
    {
      "cell_type": "code",
      "source": [
        "vector.ndim"
      ],
      "metadata": {
        "colab": {
          "base_uri": "https://localhost:8080/"
        },
        "id": "STD2Hx1f6fri",
        "outputId": "713c9b3e-a48e-4aa0-f5d4-6e4035e3c29d"
      },
      "execution_count": 34,
      "outputs": [
        {
          "output_type": "execute_result",
          "data": {
            "text/plain": [
              "1"
            ]
          },
          "metadata": {},
          "execution_count": 34
        }
      ]
    },
    {
      "cell_type": "code",
      "source": [
        "vector.shape"
      ],
      "metadata": {
        "colab": {
          "base_uri": "https://localhost:8080/"
        },
        "id": "2MGlLg-D65Hu",
        "outputId": "07fc21b1-5574-4e7e-a799-07c2cc5fa09a"
      },
      "execution_count": 35,
      "outputs": [
        {
          "output_type": "execute_result",
          "data": {
            "text/plain": [
              "torch.Size([2])"
            ]
          },
          "metadata": {},
          "execution_count": 35
        }
      ]
    },
    {
      "cell_type": "code",
      "source": [
        "#MATRIX\n",
        "MATRIX=torch.tensor([[7,8],\n",
        "                    [9,10]])\n",
        "MATRIX"
      ],
      "metadata": {
        "colab": {
          "base_uri": "https://localhost:8080/"
        },
        "id": "fGlQIynw68m3",
        "outputId": "cb21d3b7-44e4-40c4-ec0b-d9b026e76fd4"
      },
      "execution_count": 36,
      "outputs": [
        {
          "output_type": "execute_result",
          "data": {
            "text/plain": [
              "tensor([[ 7,  8],\n",
              "        [ 9, 10]])"
            ]
          },
          "metadata": {},
          "execution_count": 36
        }
      ]
    },
    {
      "cell_type": "code",
      "source": [
        "MATRIX.ndim"
      ],
      "metadata": {
        "colab": {
          "base_uri": "https://localhost:8080/"
        },
        "id": "Azy0Cmi_xxk9",
        "outputId": "54824da9-d90c-483b-a810-4c9578dbb216"
      },
      "execution_count": 37,
      "outputs": [
        {
          "output_type": "execute_result",
          "data": {
            "text/plain": [
              "2"
            ]
          },
          "metadata": {},
          "execution_count": 37
        }
      ]
    },
    {
      "cell_type": "code",
      "source": [
        " MATRIX[1]"
      ],
      "metadata": {
        "colab": {
          "base_uri": "https://localhost:8080/"
        },
        "id": "mlNOymZW7W0t",
        "outputId": "0331b0a8-91c5-4ff5-e419-ffb31cf3af25"
      },
      "execution_count": 38,
      "outputs": [
        {
          "output_type": "execute_result",
          "data": {
            "text/plain": [
              "tensor([ 9, 10])"
            ]
          },
          "metadata": {},
          "execution_count": 38
        }
      ]
    },
    {
      "cell_type": "code",
      "source": [
        "MATRIX.shape"
      ],
      "metadata": {
        "colab": {
          "base_uri": "https://localhost:8080/"
        },
        "id": "L-xE2KmL7fHV",
        "outputId": "40e83993-a3e4-4a48-da34-b9fca05ba052"
      },
      "execution_count": 39,
      "outputs": [
        {
          "output_type": "execute_result",
          "data": {
            "text/plain": [
              "torch.Size([2, 2])"
            ]
          },
          "metadata": {},
          "execution_count": 39
        }
      ]
    },
    {
      "cell_type": "code",
      "source": [
        "#TENSOR\n",
        "TENSOR=torch.tensor([[[1,2,3],\n",
        "                      [3,6,9],\n",
        "                      [2,4,5]]])\n",
        "TENSOR"
      ],
      "metadata": {
        "colab": {
          "base_uri": "https://localhost:8080/"
        },
        "id": "d8UIjFkh7iAc",
        "outputId": "91170463-53e0-473b-ad1e-725ddb0ee123"
      },
      "execution_count": 40,
      "outputs": [
        {
          "output_type": "execute_result",
          "data": {
            "text/plain": [
              "tensor([[[1, 2, 3],\n",
              "         [3, 6, 9],\n",
              "         [2, 4, 5]]])"
            ]
          },
          "metadata": {},
          "execution_count": 40
        }
      ]
    },
    {
      "cell_type": "code",
      "source": [
        "TENSOR.ndim"
      ],
      "metadata": {
        "colab": {
          "base_uri": "https://localhost:8080/"
        },
        "id": "VBDMFRyd7yzU",
        "outputId": "f9796e07-5f37-4005-b664-3e6df201ab56"
      },
      "execution_count": 41,
      "outputs": [
        {
          "output_type": "execute_result",
          "data": {
            "text/plain": [
              "3"
            ]
          },
          "metadata": {},
          "execution_count": 41
        }
      ]
    },
    {
      "cell_type": "code",
      "source": [
        "TENSOR.shape"
      ],
      "metadata": {
        "colab": {
          "base_uri": "https://localhost:8080/"
        },
        "id": "rnIKFDws8AjK",
        "outputId": "fbe47aec-7e7f-4291-f35e-ff4bf7b603ea"
      },
      "execution_count": 42,
      "outputs": [
        {
          "output_type": "execute_result",
          "data": {
            "text/plain": [
              "torch.Size([1, 3, 3])"
            ]
          },
          "metadata": {},
          "execution_count": 42
        }
      ]
    },
    {
      "cell_type": "code",
      "source": [
        "TENSOR[0]"
      ],
      "metadata": {
        "colab": {
          "base_uri": "https://localhost:8080/"
        },
        "id": "NW6GHN8i8Cct",
        "outputId": "d5e813a7-b75c-4871-f9da-c4718dc9fce4"
      },
      "execution_count": 43,
      "outputs": [
        {
          "output_type": "execute_result",
          "data": {
            "text/plain": [
              "tensor([[1, 2, 3],\n",
              "        [3, 6, 9],\n",
              "        [2, 4, 5]])"
            ]
          },
          "metadata": {},
          "execution_count": 43
        }
      ]
    },
    {
      "cell_type": "code",
      "source": [],
      "metadata": {
        "id": "Jpcv2haVzf43"
      },
      "execution_count": 43,
      "outputs": []
    },
    {
      "cell_type": "markdown",
      "source": [
        "RANDOM TENSORS\n"
      ],
      "metadata": {
        "id": "gdTnk7b90n2f"
      }
    },
    {
      "cell_type": "markdown",
      "source": [
        "Why random tensors?\n",
        "\n",
        "Random tensors are important because the way many neural networks learn is that they start with tensors full of random numbers and then adjust those random numbers to be better represent the data.\n",
        "Start with random numbers->look at data->update random numbers\n"
      ],
      "metadata": {
        "id": "ZrC58x9B1SQX"
      }
    },
    {
      "cell_type": "code",
      "source": [
        "#Create a random tensor of size(3,4)\n",
        "random_tensor=torch.rand(3,4)\n",
        "random_tensor"
      ],
      "metadata": {
        "colab": {
          "base_uri": "https://localhost:8080/"
        },
        "id": "RszxGyPC1yho",
        "outputId": "4aeecf0f-06d3-465f-8a7e-29a5de9714c1"
      },
      "execution_count": 44,
      "outputs": [
        {
          "output_type": "execute_result",
          "data": {
            "text/plain": [
              "tensor([[0.6791, 0.3063, 0.9485, 0.4789],\n",
              "        [0.1699, 0.2802, 0.7528, 0.3841],\n",
              "        [0.6988, 0.7790, 0.2619, 0.6374]])"
            ]
          },
          "metadata": {},
          "execution_count": 44
        }
      ]
    },
    {
      "cell_type": "code",
      "source": [
        "random_tensor=torch.rand(10,10)\n",
        "random_tensor"
      ],
      "metadata": {
        "colab": {
          "base_uri": "https://localhost:8080/"
        },
        "id": "9tg1WWysquPd",
        "outputId": "1c1ea394-daee-48a9-8810-6cf1b8a85edb"
      },
      "execution_count": 45,
      "outputs": [
        {
          "output_type": "execute_result",
          "data": {
            "text/plain": [
              "tensor([[0.0132, 0.8351, 0.4573, 0.8907, 0.0629, 0.5479, 0.7108, 0.4690, 0.0223,\n",
              "         0.0327],\n",
              "        [0.3807, 0.1255, 0.3623, 0.3189, 0.4900, 0.0066, 0.8738, 0.9872, 0.9752,\n",
              "         0.6005],\n",
              "        [0.5132, 0.5388, 0.4218, 0.1966, 0.2268, 0.5068, 0.9109, 0.0804, 0.3621,\n",
              "         0.4247],\n",
              "        [0.1169, 0.1405, 0.4797, 0.1617, 0.9736, 0.8070, 0.2519, 0.5593, 0.9041,\n",
              "         0.5895],\n",
              "        [0.6430, 0.6195, 0.9213, 0.4472, 0.0488, 0.2900, 0.3705, 0.6366, 0.0895,\n",
              "         0.9900],\n",
              "        [0.2150, 0.9902, 0.3808, 0.9287, 0.3776, 0.5543, 0.2856, 0.0183, 0.1871,\n",
              "         0.8477],\n",
              "        [0.4113, 0.8917, 0.1116, 0.0276, 0.7257, 0.1258, 0.2084, 0.6814, 0.5216,\n",
              "         0.9846],\n",
              "        [0.3269, 0.5729, 0.0952, 0.0957, 0.1789, 0.8210, 0.6203, 0.4272, 0.2806,\n",
              "         0.7047],\n",
              "        [0.6885, 0.9506, 0.1147, 0.4723, 0.1525, 0.7951, 0.5522, 0.4408, 0.9667,\n",
              "         0.4712],\n",
              "        [0.3149, 0.3920, 0.1787, 0.1967, 0.4253, 0.0595, 0.1027, 0.2034, 0.5132,\n",
              "         0.3273]])"
            ]
          },
          "metadata": {},
          "execution_count": 45
        }
      ]
    },
    {
      "cell_type": "code",
      "source": [
        "#Create a random tensor with similar shape to an image tensor\n",
        "random_image_size_tensor=torch.rand(size=(224,224,3))#height,width,colour channelS (R,G,B)\n",
        "random_image_size_tensor.shape,\n",
        "random_image_size_tensor.ndim"
      ],
      "metadata": {
        "colab": {
          "base_uri": "https://localhost:8080/"
        },
        "id": "kOW9uBvFr3J_",
        "outputId": "8e60695e-213e-4ea8-fad6-fcfa9cab84a2"
      },
      "execution_count": 46,
      "outputs": [
        {
          "output_type": "execute_result",
          "data": {
            "text/plain": [
              "3"
            ]
          },
          "metadata": {},
          "execution_count": 46
        }
      ]
    },
    {
      "cell_type": "code",
      "source": [
        "torch.rand(3,3)"
      ],
      "metadata": {
        "colab": {
          "base_uri": "https://localhost:8080/"
        },
        "id": "9Q7yoYWBsVWk",
        "outputId": "8ec147a7-0a63-4a2f-b2e6-86c68a4ff402"
      },
      "execution_count": 47,
      "outputs": [
        {
          "output_type": "execute_result",
          "data": {
            "text/plain": [
              "tensor([[0.8341, 0.6917, 0.2667],\n",
              "        [0.9295, 0.8380, 0.1664],\n",
              "        [0.3023, 0.4569, 0.5844]])"
            ]
          },
          "metadata": {},
          "execution_count": 47
        }
      ]
    },
    {
      "cell_type": "markdown",
      "source": [
        "ZEROS AND ONES\n"
      ],
      "metadata": {
        "id": "RJDfwVsTt8RZ"
      }
    },
    {
      "cell_type": "code",
      "source": [
        "#Create a tensor of all zeroes\n",
        "zeros=torch.zeros(size=(3,4))\n",
        "zeros"
      ],
      "metadata": {
        "colab": {
          "base_uri": "https://localhost:8080/"
        },
        "id": "ezghVKB7t-ud",
        "outputId": "f2976420-732a-42d9-ac3d-9b19d18c9c93"
      },
      "execution_count": 48,
      "outputs": [
        {
          "output_type": "execute_result",
          "data": {
            "text/plain": [
              "tensor([[0., 0., 0., 0.],\n",
              "        [0., 0., 0., 0.],\n",
              "        [0., 0., 0., 0.]])"
            ]
          },
          "metadata": {},
          "execution_count": 48
        }
      ]
    },
    {
      "cell_type": "code",
      "source": [
        "#create a tensor of all ones\n",
        "ones=torch.ones(size=(3,4))\n",
        "ones"
      ],
      "metadata": {
        "colab": {
          "base_uri": "https://localhost:8080/"
        },
        "id": "WyaqTgSEuLSp",
        "outputId": "81db7e58-debc-437d-d9ab-f1f6fb01e4d7"
      },
      "execution_count": 49,
      "outputs": [
        {
          "output_type": "execute_result",
          "data": {
            "text/plain": [
              "tensor([[1., 1., 1., 1.],\n",
              "        [1., 1., 1., 1.],\n",
              "        [1., 1., 1., 1.]])"
            ]
          },
          "metadata": {},
          "execution_count": 49
        }
      ]
    },
    {
      "cell_type": "code",
      "source": [
        "ones.dtype"
      ],
      "metadata": {
        "colab": {
          "base_uri": "https://localhost:8080/"
        },
        "id": "8b4985t9ubo5",
        "outputId": "1feac97d-98c5-4e8a-c5be-2a37e9539e72"
      },
      "execution_count": 50,
      "outputs": [
        {
          "output_type": "execute_result",
          "data": {
            "text/plain": [
              "torch.float32"
            ]
          },
          "metadata": {},
          "execution_count": 50
        }
      ]
    },
    {
      "cell_type": "markdown",
      "source": [
        "Creating a  range of tensor and tensors like\n"
      ],
      "metadata": {
        "id": "5JgHc7as61Y4"
      }
    },
    {
      "cell_type": "code",
      "source": [
        " #Use torch.range()\n",
        " one_to_ten=torch.arange(start=1,end=1000,step=77)\n",
        " one_to_ten"
      ],
      "metadata": {
        "colab": {
          "base_uri": "https://localhost:8080/"
        },
        "id": "ccXTicuhuywl",
        "outputId": "3cd25f9f-d26b-492e-9a44-c24e32480a20"
      },
      "execution_count": 51,
      "outputs": [
        {
          "output_type": "execute_result",
          "data": {
            "text/plain": [
              "tensor([  1,  78, 155, 232, 309, 386, 463, 540, 617, 694, 771, 848, 925])"
            ]
          },
          "metadata": {},
          "execution_count": 51
        }
      ]
    },
    {
      "cell_type": "code",
      "source": [
        "one_to_ten=torch.arange(1,11,1)\n",
        "one_to_ten"
      ],
      "metadata": {
        "id": "HDGwYGJ97Zg1",
        "colab": {
          "base_uri": "https://localhost:8080/"
        },
        "outputId": "f643e08b-f526-4dfc-e0cf-c9d4b2a2a452"
      },
      "execution_count": 52,
      "outputs": [
        {
          "output_type": "execute_result",
          "data": {
            "text/plain": [
              "tensor([ 1,  2,  3,  4,  5,  6,  7,  8,  9, 10])"
            ]
          },
          "metadata": {},
          "execution_count": 52
        }
      ]
    },
    {
      "cell_type": "code",
      "source": [
        "#creating tensors like\n",
        "ten_zeros=torch.zeros_like(input=one_to_ten)\n",
        "ten_zeros\n",
        "#zeros like 1 to 10\n"
      ],
      "metadata": {
        "colab": {
          "base_uri": "https://localhost:8080/"
        },
        "id": "WXWtcwFHF9fw",
        "outputId": "5cf4e4f8-019a-4934-9810-e4d67af69f63"
      },
      "execution_count": 53,
      "outputs": [
        {
          "output_type": "execute_result",
          "data": {
            "text/plain": [
              "tensor([0, 0, 0, 0, 0, 0, 0, 0, 0, 0])"
            ]
          },
          "metadata": {},
          "execution_count": 53
        }
      ]
    },
    {
      "cell_type": "markdown",
      "source": [
        "TENSOR DATATYPES\n",
        "Note: Tensor datatypes is one of the 3 big errors you qill run into Pytorch & deeplearning.\n",
        "1.Tensors not right datatype.\n",
        "2.Tensors not right shape.\n",
        "3.Tensors not on the right device."
      ],
      "metadata": {
        "id": "RrPe_sY1JPyK"
      }
    },
    {
      "cell_type": "code",
      "source": [
        "#Float 32 tensor"
      ],
      "metadata": {
        "id": "9u271zQ2IF4N"
      },
      "execution_count": 54,
      "outputs": []
    },
    {
      "cell_type": "code",
      "source": [
        "float_32_tensor=torch.tensor([3.0,6.0,9.0],\n",
        "                             dtype=None)\n",
        "float_32_tensor"
      ],
      "metadata": {
        "colab": {
          "base_uri": "https://localhost:8080/"
        },
        "id": "uqylZXcVJYxp",
        "outputId": "fcb581f7-0070-4326-b291-b5cbdf5dbd40"
      },
      "execution_count": 55,
      "outputs": [
        {
          "output_type": "execute_result",
          "data": {
            "text/plain": [
              "tensor([3., 6., 9.])"
            ]
          },
          "metadata": {},
          "execution_count": 55
        }
      ]
    },
    {
      "cell_type": "code",
      "source": [
        "float_32_tensor=torch.tensor([3.0,6.0,9.0],\n",
        "                             dtype=torch.float32)\n",
        "float_32_tensor"
      ],
      "metadata": {
        "colab": {
          "base_uri": "https://localhost:8080/"
        },
        "id": "hjCQR0l6JqXq",
        "outputId": "81a950e2-44e0-48d5-a616-bdeb8ca7c067"
      },
      "execution_count": 56,
      "outputs": [
        {
          "output_type": "execute_result",
          "data": {
            "text/plain": [
              "tensor([3., 6., 9.])"
            ]
          },
          "metadata": {},
          "execution_count": 56
        }
      ]
    },
    {
      "cell_type": "code",
      "source": [
        "float_32_tensor=torch.tensor([3.0,6.0,9.0],\n",
        "                             dtype=None, #what datatype is your tensor (e.g: float32 or float16)\n",
        "                             device=None,#what device is your tensor on\n",
        "                             requires_grad=False)#whether or not to track gradients with this tensor\n",
        "float_32_tensor"
      ],
      "metadata": {
        "colab": {
          "base_uri": "https://localhost:8080/"
        },
        "id": "M9BQE4_gKKO8",
        "outputId": "943251ca-2f07-4819-9a17-25b659cf5302"
      },
      "execution_count": 58,
      "outputs": [
        {
          "output_type": "execute_result",
          "data": {
            "text/plain": [
              "tensor([3., 6., 9.])"
            ]
          },
          "metadata": {},
          "execution_count": 58
        }
      ]
    },
    {
      "cell_type": "code",
      "source": [
        "float_32_tensor.dtype"
      ],
      "metadata": {
        "colab": {
          "base_uri": "https://localhost:8080/"
        },
        "id": "sSiGj2OojIL4",
        "outputId": "639553e3-61be-4611-a3c1-40d6d1a56f76"
      },
      "execution_count": 59,
      "outputs": [
        {
          "output_type": "execute_result",
          "data": {
            "text/plain": [
              "torch.float32"
            ]
          },
          "metadata": {},
          "execution_count": 59
        }
      ]
    },
    {
      "cell_type": "code",
      "source": [
        "float_16_tensor=float_32_tensor.type(torch.float16)\n",
        "float_16_tensor"
      ],
      "metadata": {
        "colab": {
          "base_uri": "https://localhost:8080/"
        },
        "id": "tYfzjrSvjc6E",
        "outputId": "8257a811-7cc8-4585-c0b8-7f43f48e3b6f"
      },
      "execution_count": 61,
      "outputs": [
        {
          "output_type": "execute_result",
          "data": {
            "text/plain": [
              "tensor([3., 6., 9.], dtype=torch.float16)"
            ]
          },
          "metadata": {},
          "execution_count": 61
        }
      ]
    },
    {
      "cell_type": "code",
      "source": [],
      "metadata": {
        "id": "-3Mqf_AMjjcK"
      },
      "execution_count": null,
      "outputs": []
    }
  ]
}