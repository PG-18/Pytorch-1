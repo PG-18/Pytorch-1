{
  "nbformat": 4,
  "nbformat_minor": 0,
  "metadata": {
    "colab": {
      "provenance": [],
      "gpuType": "T4",
      "authorship_tag": "ABX9TyPPkCM6+cjAy5QNNIphcyp8",
      "include_colab_link": true
    },
    "kernelspec": {
      "name": "python3",
      "display_name": "Python 3"
    },
    "language_info": {
      "name": "python"
    },
    "accelerator": "GPU"
  },
  "cells": [
    {
      "cell_type": "markdown",
      "metadata": {
        "id": "view-in-github",
        "colab_type": "text"
      },
      "source": [
        "<a href=\"https://colab.research.google.com/github/PG-18/Pytorch-1/blob/main/Pytorch_1.ipynb\" target=\"_parent\"><img src=\"https://colab.research.google.com/assets/colab-badge.svg\" alt=\"Open In Colab\"/></a>"
      ]
    },
    {
      "cell_type": "code",
      "execution_count": 1,
      "metadata": {
        "id": "p92M-PiT7_f0",
        "colab": {
          "base_uri": "https://localhost:8080/"
        },
        "outputId": "c4b0e9f3-30a5-44d7-cc5c-10d35c914e5b"
      },
      "outputs": [
        {
          "output_type": "stream",
          "name": "stdout",
          "text": [
            "2.1.0+cu121\n"
          ]
        }
      ],
      "source": [
        "import torch\n",
        "import pandas as pd\n",
        "import numpy as np\n",
        "import matplotlib.pyplot as plt\n",
        "\n",
        "print(torch.__version__)"
      ]
    },
    {
      "cell_type": "markdown",
      "source": [],
      "metadata": {
        "id": "OZtbjx7A5rpD"
      }
    },
    {
      "cell_type": "markdown",
      "source": [
        "# Creating tensors\n"
      ],
      "metadata": {
        "id": "C7fDtDZQ5uHI"
      }
    },
    {
      "cell_type": "code",
      "source": [
        "scalar=torch.tensor(7)\n",
        "scalar"
      ],
      "metadata": {
        "colab": {
          "base_uri": "https://localhost:8080/"
        },
        "id": "1lWlCdWb5z7B",
        "outputId": "ab377664-fcf2-47b1-c436-6189f20df69e"
      },
      "execution_count": 2,
      "outputs": [
        {
          "output_type": "execute_result",
          "data": {
            "text/plain": [
              "tensor(7)"
            ]
          },
          "metadata": {},
          "execution_count": 2
        }
      ]
    },
    {
      "cell_type": "code",
      "source": [
        "scalar.ndim"
      ],
      "metadata": {
        "colab": {
          "base_uri": "https://localhost:8080/"
        },
        "id": "Q-mrQgsZ6S45",
        "outputId": "2236c878-ec8b-4268-ef6f-227b465c195a"
      },
      "execution_count": 3,
      "outputs": [
        {
          "output_type": "execute_result",
          "data": {
            "text/plain": [
              "0"
            ]
          },
          "metadata": {},
          "execution_count": 3
        }
      ]
    },
    {
      "cell_type": "code",
      "source": [
        "scalar.item()"
      ],
      "metadata": {
        "colab": {
          "base_uri": "https://localhost:8080/"
        },
        "id": "ojVO04uT6VK9",
        "outputId": "41865bcf-9097-4060-fe88-918552a75624"
      },
      "execution_count": 4,
      "outputs": [
        {
          "output_type": "execute_result",
          "data": {
            "text/plain": [
              "7"
            ]
          },
          "metadata": {},
          "execution_count": 4
        }
      ]
    },
    {
      "cell_type": "code",
      "source": [
        "vector=torch.tensor([7,7])\n",
        "vector"
      ],
      "metadata": {
        "colab": {
          "base_uri": "https://localhost:8080/"
        },
        "id": "bYEgH47C6Y02",
        "outputId": "4ad67295-5fba-4062-c4f5-37bc8d21e6f3"
      },
      "execution_count": 5,
      "outputs": [
        {
          "output_type": "execute_result",
          "data": {
            "text/plain": [
              "tensor([7, 7])"
            ]
          },
          "metadata": {},
          "execution_count": 5
        }
      ]
    },
    {
      "cell_type": "code",
      "source": [
        "vector.ndim"
      ],
      "metadata": {
        "colab": {
          "base_uri": "https://localhost:8080/"
        },
        "id": "STD2Hx1f6fri",
        "outputId": "90cd8c85-ef55-4fa9-9823-378208b2fe25"
      },
      "execution_count": 6,
      "outputs": [
        {
          "output_type": "execute_result",
          "data": {
            "text/plain": [
              "1"
            ]
          },
          "metadata": {},
          "execution_count": 6
        }
      ]
    },
    {
      "cell_type": "code",
      "source": [
        "vector.shape"
      ],
      "metadata": {
        "colab": {
          "base_uri": "https://localhost:8080/"
        },
        "id": "2MGlLg-D65Hu",
        "outputId": "92c9daf3-ed7a-408d-b6b0-b1f808f17322"
      },
      "execution_count": 7,
      "outputs": [
        {
          "output_type": "execute_result",
          "data": {
            "text/plain": [
              "torch.Size([2])"
            ]
          },
          "metadata": {},
          "execution_count": 7
        }
      ]
    },
    {
      "cell_type": "code",
      "source": [
        "#MATRIX\n",
        "MATRIX=torch.tensor([[7,8],\n",
        "                    [9,10]])\n",
        "MATRIX"
      ],
      "metadata": {
        "colab": {
          "base_uri": "https://localhost:8080/"
        },
        "id": "fGlQIynw68m3",
        "outputId": "9dd0ebca-7d4d-4ea3-b30f-77be2a0d0a1e"
      },
      "execution_count": 8,
      "outputs": [
        {
          "output_type": "execute_result",
          "data": {
            "text/plain": [
              "tensor([[ 7,  8],\n",
              "        [ 9, 10]])"
            ]
          },
          "metadata": {},
          "execution_count": 8
        }
      ]
    },
    {
      "cell_type": "code",
      "source": [
        "MATRIX.ndim"
      ],
      "metadata": {
        "colab": {
          "base_uri": "https://localhost:8080/"
        },
        "id": "Azy0Cmi_xxk9",
        "outputId": "57d5f272-499c-44b1-e11d-f175dd7951ca"
      },
      "execution_count": 9,
      "outputs": [
        {
          "output_type": "execute_result",
          "data": {
            "text/plain": [
              "2"
            ]
          },
          "metadata": {},
          "execution_count": 9
        }
      ]
    },
    {
      "cell_type": "code",
      "source": [
        " MATRIX[1]"
      ],
      "metadata": {
        "colab": {
          "base_uri": "https://localhost:8080/"
        },
        "id": "mlNOymZW7W0t",
        "outputId": "18146d25-d8d7-45fe-cf48-ef9229edac16"
      },
      "execution_count": 10,
      "outputs": [
        {
          "output_type": "execute_result",
          "data": {
            "text/plain": [
              "tensor([ 9, 10])"
            ]
          },
          "metadata": {},
          "execution_count": 10
        }
      ]
    },
    {
      "cell_type": "code",
      "source": [
        "MATRIX.shape"
      ],
      "metadata": {
        "colab": {
          "base_uri": "https://localhost:8080/"
        },
        "id": "L-xE2KmL7fHV",
        "outputId": "2373995b-e277-4e23-eb74-94566aa485ca"
      },
      "execution_count": 11,
      "outputs": [
        {
          "output_type": "execute_result",
          "data": {
            "text/plain": [
              "torch.Size([2, 2])"
            ]
          },
          "metadata": {},
          "execution_count": 11
        }
      ]
    },
    {
      "cell_type": "code",
      "source": [
        "#TENSOR\n",
        "TENSOR=torch.tensor([[[1,2,3],\n",
        "                      [3,6,9],\n",
        "                      [2,4,5]]])\n",
        "TENSOR"
      ],
      "metadata": {
        "colab": {
          "base_uri": "https://localhost:8080/"
        },
        "id": "d8UIjFkh7iAc",
        "outputId": "bdef861a-40a4-43e4-fe60-3cdcfa118829"
      },
      "execution_count": 12,
      "outputs": [
        {
          "output_type": "execute_result",
          "data": {
            "text/plain": [
              "tensor([[[1, 2, 3],\n",
              "         [3, 6, 9],\n",
              "         [2, 4, 5]]])"
            ]
          },
          "metadata": {},
          "execution_count": 12
        }
      ]
    },
    {
      "cell_type": "code",
      "source": [
        "TENSOR.ndim"
      ],
      "metadata": {
        "colab": {
          "base_uri": "https://localhost:8080/"
        },
        "id": "VBDMFRyd7yzU",
        "outputId": "5415ccdd-a8fd-4f28-cf6a-afdf127efe7d"
      },
      "execution_count": 13,
      "outputs": [
        {
          "output_type": "execute_result",
          "data": {
            "text/plain": [
              "3"
            ]
          },
          "metadata": {},
          "execution_count": 13
        }
      ]
    },
    {
      "cell_type": "code",
      "source": [
        "TENSOR.shape"
      ],
      "metadata": {
        "colab": {
          "base_uri": "https://localhost:8080/"
        },
        "id": "rnIKFDws8AjK",
        "outputId": "c5b44a6a-9345-401f-9ef9-115b68c68636"
      },
      "execution_count": 14,
      "outputs": [
        {
          "output_type": "execute_result",
          "data": {
            "text/plain": [
              "torch.Size([1, 3, 3])"
            ]
          },
          "metadata": {},
          "execution_count": 14
        }
      ]
    },
    {
      "cell_type": "code",
      "source": [
        "TENSOR[0]"
      ],
      "metadata": {
        "colab": {
          "base_uri": "https://localhost:8080/"
        },
        "id": "NW6GHN8i8Cct",
        "outputId": "cdabe28f-4cf9-48b6-ed7c-640bf45f02ab"
      },
      "execution_count": 15,
      "outputs": [
        {
          "output_type": "execute_result",
          "data": {
            "text/plain": [
              "tensor([[1, 2, 3],\n",
              "        [3, 6, 9],\n",
              "        [2, 4, 5]])"
            ]
          },
          "metadata": {},
          "execution_count": 15
        }
      ]
    },
    {
      "cell_type": "code",
      "source": [],
      "metadata": {
        "id": "Jpcv2haVzf43"
      },
      "execution_count": 15,
      "outputs": []
    },
    {
      "cell_type": "markdown",
      "source": [
        "RANDOM TENSORS\n"
      ],
      "metadata": {
        "id": "gdTnk7b90n2f"
      }
    },
    {
      "cell_type": "markdown",
      "source": [
        "Why random tensors?\n",
        "\n",
        "Random tensors are important because the way many neural networks learn is that they start with tensors full of random numbers and then adjust those random numbers to be better represent the data.\n",
        "Start with random numbers->look at data->update random numbers\n"
      ],
      "metadata": {
        "id": "ZrC58x9B1SQX"
      }
    },
    {
      "cell_type": "code",
      "source": [
        "#Create a random tensor of size(3,4)\n",
        "random_tensor=torch.rand(3,4)\n",
        "random_tensor"
      ],
      "metadata": {
        "colab": {
          "base_uri": "https://localhost:8080/"
        },
        "id": "RszxGyPC1yho",
        "outputId": "b30cb6bc-c190-4602-ee32-fa487e580a71"
      },
      "execution_count": 16,
      "outputs": [
        {
          "output_type": "execute_result",
          "data": {
            "text/plain": [
              "tensor([[0.7063, 0.6740, 0.5340, 0.7234],\n",
              "        [0.6203, 0.0837, 0.9121, 0.2648],\n",
              "        [0.5011, 0.4862, 0.5836, 0.9215]])"
            ]
          },
          "metadata": {},
          "execution_count": 16
        }
      ]
    },
    {
      "cell_type": "code",
      "source": [
        "random_tensor=torch.rand(10,10)\n",
        "random_tensor"
      ],
      "metadata": {
        "colab": {
          "base_uri": "https://localhost:8080/"
        },
        "id": "9tg1WWysquPd",
        "outputId": "c7b43b59-62ba-4b3c-e595-d5cc456850b3"
      },
      "execution_count": 17,
      "outputs": [
        {
          "output_type": "execute_result",
          "data": {
            "text/plain": [
              "tensor([[6.2099e-01, 1.9331e-01, 1.1553e-01, 2.2690e-01, 3.7291e-01, 7.7371e-01,\n",
              "         9.6091e-01, 7.1705e-01, 5.9691e-01, 1.8637e-01],\n",
              "        [2.5029e-03, 4.1251e-01, 1.6330e-01, 6.0180e-01, 7.4490e-01, 6.7516e-01,\n",
              "         9.1884e-01, 4.6395e-01, 3.9475e-01, 9.4927e-01],\n",
              "        [4.8613e-01, 1.6258e-01, 9.0741e-01, 6.9748e-01, 7.7997e-01, 1.0699e-01,\n",
              "         1.6527e-01, 8.3559e-01, 4.2314e-01, 1.2209e-01],\n",
              "        [1.1060e-01, 9.3265e-01, 3.8234e-01, 9.4182e-01, 9.5535e-01, 2.0944e-01,\n",
              "         5.5494e-01, 4.8129e-01, 4.4082e-01, 3.3879e-01],\n",
              "        [7.8320e-01, 9.6237e-01, 5.1892e-01, 4.9140e-01, 9.3430e-01, 9.3607e-03,\n",
              "         7.9541e-01, 6.1687e-01, 6.6752e-01, 5.6632e-01],\n",
              "        [9.3651e-01, 9.6214e-01, 7.7110e-01, 2.0547e-01, 2.4856e-01, 3.1614e-01,\n",
              "         6.2615e-01, 1.1906e-01, 9.0647e-01, 3.7891e-01],\n",
              "        [4.1575e-01, 9.8697e-01, 8.9196e-01, 9.1049e-01, 1.5627e-01, 5.6331e-01,\n",
              "         8.9242e-01, 9.3513e-01, 3.6999e-01, 4.3543e-01],\n",
              "        [6.3647e-02, 1.7515e-01, 6.0462e-01, 5.4460e-01, 2.3096e-01, 3.2886e-01,\n",
              "         9.1909e-01, 3.7546e-01, 1.8450e-01, 2.0242e-04],\n",
              "        [1.2189e-01, 9.8098e-01, 8.8047e-01, 1.2071e-01, 5.3019e-01, 7.6100e-01,\n",
              "         5.2212e-01, 5.3676e-01, 7.1460e-03, 4.4896e-01],\n",
              "        [5.8491e-01, 3.9258e-01, 3.8738e-01, 9.8434e-01, 9.6596e-01, 7.5830e-01,\n",
              "         9.9852e-01, 1.3106e-01, 9.2384e-01, 6.4118e-01]])"
            ]
          },
          "metadata": {},
          "execution_count": 17
        }
      ]
    },
    {
      "cell_type": "code",
      "source": [
        "#Create a random tensor with similar shape to an image tensor\n",
        "random_image_size_tensor=torch.rand(size=(224,224,3))#height,width,colour channelS (R,G,B)\n",
        "random_image_size_tensor.shape,\n",
        "random_image_size_tensor.ndim"
      ],
      "metadata": {
        "colab": {
          "base_uri": "https://localhost:8080/"
        },
        "id": "kOW9uBvFr3J_",
        "outputId": "3e331cd2-1a04-4aac-d09a-bc794dd7c9a9"
      },
      "execution_count": 18,
      "outputs": [
        {
          "output_type": "execute_result",
          "data": {
            "text/plain": [
              "3"
            ]
          },
          "metadata": {},
          "execution_count": 18
        }
      ]
    },
    {
      "cell_type": "code",
      "source": [
        "torch.rand(3,3)"
      ],
      "metadata": {
        "colab": {
          "base_uri": "https://localhost:8080/"
        },
        "id": "9Q7yoYWBsVWk",
        "outputId": "9865b6ba-5642-411d-d7ac-c48188c715bc"
      },
      "execution_count": 19,
      "outputs": [
        {
          "output_type": "execute_result",
          "data": {
            "text/plain": [
              "tensor([[0.8629, 0.6034, 0.8082],\n",
              "        [0.5592, 0.5198, 0.0659],\n",
              "        [0.5646, 0.1801, 0.5561]])"
            ]
          },
          "metadata": {},
          "execution_count": 19
        }
      ]
    },
    {
      "cell_type": "markdown",
      "source": [
        "ZEROS AND ONES\n"
      ],
      "metadata": {
        "id": "RJDfwVsTt8RZ"
      }
    },
    {
      "cell_type": "code",
      "source": [
        "#Create a tensor of all zeroes\n",
        "zeros=torch.zeros(size=(3,4))\n",
        "zeros"
      ],
      "metadata": {
        "colab": {
          "base_uri": "https://localhost:8080/"
        },
        "id": "ezghVKB7t-ud",
        "outputId": "eac823a1-c770-44ad-ca03-a9b5e04896f4"
      },
      "execution_count": 20,
      "outputs": [
        {
          "output_type": "execute_result",
          "data": {
            "text/plain": [
              "tensor([[0., 0., 0., 0.],\n",
              "        [0., 0., 0., 0.],\n",
              "        [0., 0., 0., 0.]])"
            ]
          },
          "metadata": {},
          "execution_count": 20
        }
      ]
    },
    {
      "cell_type": "code",
      "source": [
        "#create a tensor of all ones\n",
        "ones=torch.ones(size=(3,4))\n",
        "ones"
      ],
      "metadata": {
        "colab": {
          "base_uri": "https://localhost:8080/"
        },
        "id": "WyaqTgSEuLSp",
        "outputId": "d77f7aeb-f56e-430a-cb70-71c4e292f552"
      },
      "execution_count": 21,
      "outputs": [
        {
          "output_type": "execute_result",
          "data": {
            "text/plain": [
              "tensor([[1., 1., 1., 1.],\n",
              "        [1., 1., 1., 1.],\n",
              "        [1., 1., 1., 1.]])"
            ]
          },
          "metadata": {},
          "execution_count": 21
        }
      ]
    },
    {
      "cell_type": "code",
      "source": [
        "ones.dtype"
      ],
      "metadata": {
        "colab": {
          "base_uri": "https://localhost:8080/"
        },
        "id": "8b4985t9ubo5",
        "outputId": "95206ae6-c97a-4bb7-9797-2c6b5c3a3ba1"
      },
      "execution_count": 22,
      "outputs": [
        {
          "output_type": "execute_result",
          "data": {
            "text/plain": [
              "torch.float32"
            ]
          },
          "metadata": {},
          "execution_count": 22
        }
      ]
    },
    {
      "cell_type": "markdown",
      "source": [
        "Creating a  range of tensor and tensors like\n"
      ],
      "metadata": {
        "id": "5JgHc7as61Y4"
      }
    },
    {
      "cell_type": "code",
      "source": [
        " #Use torch.range()\n",
        " one_to_ten=torch.arange(start=1,end=1000,step=77)\n",
        " one_to_ten"
      ],
      "metadata": {
        "colab": {
          "base_uri": "https://localhost:8080/"
        },
        "id": "ccXTicuhuywl",
        "outputId": "1ce25cb0-c723-4811-8e14-66836a66a9ec"
      },
      "execution_count": 23,
      "outputs": [
        {
          "output_type": "execute_result",
          "data": {
            "text/plain": [
              "tensor([  1,  78, 155, 232, 309, 386, 463, 540, 617, 694, 771, 848, 925])"
            ]
          },
          "metadata": {},
          "execution_count": 23
        }
      ]
    },
    {
      "cell_type": "code",
      "source": [
        "one_to_ten=torch.arange(1,11,1)\n",
        "one_to_ten"
      ],
      "metadata": {
        "id": "HDGwYGJ97Zg1",
        "colab": {
          "base_uri": "https://localhost:8080/"
        },
        "outputId": "2c9b9e0f-3767-40d9-a5fe-d47697521e95"
      },
      "execution_count": 24,
      "outputs": [
        {
          "output_type": "execute_result",
          "data": {
            "text/plain": [
              "tensor([ 1,  2,  3,  4,  5,  6,  7,  8,  9, 10])"
            ]
          },
          "metadata": {},
          "execution_count": 24
        }
      ]
    },
    {
      "cell_type": "code",
      "source": [
        "#creating tensors like\n",
        "ten_zeros=torch.zeros_like(input=one_to_ten)\n",
        "ten_zeros\n",
        "#zeros like 1 to 10\n"
      ],
      "metadata": {
        "colab": {
          "base_uri": "https://localhost:8080/"
        },
        "id": "WXWtcwFHF9fw",
        "outputId": "257593e8-46cc-43f3-bd24-bc046686aa2d"
      },
      "execution_count": 25,
      "outputs": [
        {
          "output_type": "execute_result",
          "data": {
            "text/plain": [
              "tensor([0, 0, 0, 0, 0, 0, 0, 0, 0, 0])"
            ]
          },
          "metadata": {},
          "execution_count": 25
        }
      ]
    },
    {
      "cell_type": "markdown",
      "source": [
        "TENSOR DATATYPES\n",
        "Note: Tensor datatypes is one of the 3 big errors you qill run into Pytorch & deeplearning.\n",
        "1.Tensors not right datatype.\n",
        "2.Tensors not right shape.\n",
        "3.Tensors not on the right device."
      ],
      "metadata": {
        "id": "RrPe_sY1JPyK"
      }
    },
    {
      "cell_type": "code",
      "source": [
        "#Float 32 tensor"
      ],
      "metadata": {
        "id": "9u271zQ2IF4N"
      },
      "execution_count": 26,
      "outputs": []
    },
    {
      "cell_type": "code",
      "source": [
        "float_32_tensor=torch.tensor([3.0,6.0,9.0],\n",
        "                             dtype=None)\n",
        "float_32_tensor"
      ],
      "metadata": {
        "colab": {
          "base_uri": "https://localhost:8080/"
        },
        "id": "uqylZXcVJYxp",
        "outputId": "70d351ae-3fc6-4ef0-ac99-6b733513f8e9"
      },
      "execution_count": 27,
      "outputs": [
        {
          "output_type": "execute_result",
          "data": {
            "text/plain": [
              "tensor([3., 6., 9.])"
            ]
          },
          "metadata": {},
          "execution_count": 27
        }
      ]
    },
    {
      "cell_type": "code",
      "source": [
        "float_32_tensor=torch.tensor([3.0,6.0,9.0],\n",
        "                             dtype=torch.float32)\n",
        "float_32_tensor"
      ],
      "metadata": {
        "colab": {
          "base_uri": "https://localhost:8080/"
        },
        "id": "hjCQR0l6JqXq",
        "outputId": "4c2b40dc-6a9b-4b6f-ed3e-d69fefa86eb9"
      },
      "execution_count": 28,
      "outputs": [
        {
          "output_type": "execute_result",
          "data": {
            "text/plain": [
              "tensor([3., 6., 9.])"
            ]
          },
          "metadata": {},
          "execution_count": 28
        }
      ]
    },
    {
      "cell_type": "code",
      "source": [
        "float_32_tensor=torch.tensor([3.0,6.0,9.0],\n",
        "                             dtype=None, #what datatype is your tensor (e.g: float32 or float16)\n",
        "                             device=None,#what device is your tensor on\n",
        "                             requires_grad=False)#whether or not to track gradients with this tensor\n",
        "float_32_tensor"
      ],
      "metadata": {
        "colab": {
          "base_uri": "https://localhost:8080/"
        },
        "id": "M9BQE4_gKKO8",
        "outputId": "c043a082-3feb-407d-ebb2-b22fc3cdeda9"
      },
      "execution_count": 29,
      "outputs": [
        {
          "output_type": "execute_result",
          "data": {
            "text/plain": [
              "tensor([3., 6., 9.])"
            ]
          },
          "metadata": {},
          "execution_count": 29
        }
      ]
    },
    {
      "cell_type": "code",
      "source": [
        "float_32_tensor.dtype"
      ],
      "metadata": {
        "colab": {
          "base_uri": "https://localhost:8080/"
        },
        "id": "sSiGj2OojIL4",
        "outputId": "9479e07a-e51d-4372-8816-bc6a334c20ba"
      },
      "execution_count": 30,
      "outputs": [
        {
          "output_type": "execute_result",
          "data": {
            "text/plain": [
              "torch.float32"
            ]
          },
          "metadata": {},
          "execution_count": 30
        }
      ]
    },
    {
      "cell_type": "code",
      "source": [
        "float_16_tensor=float_32_tensor.type(torch.float16)\n",
        "float_16_tensor"
      ],
      "metadata": {
        "colab": {
          "base_uri": "https://localhost:8080/"
        },
        "id": "tYfzjrSvjc6E",
        "outputId": "600d9560-b3ee-49a4-a29f-8b5eac04fb6a"
      },
      "execution_count": 31,
      "outputs": [
        {
          "output_type": "execute_result",
          "data": {
            "text/plain": [
              "tensor([3., 6., 9.], dtype=torch.float16)"
            ]
          },
          "metadata": {},
          "execution_count": 31
        }
      ]
    },
    {
      "cell_type": "code",
      "source": [
        "float_16_tensor*float_32_tensor"
      ],
      "metadata": {
        "colab": {
          "base_uri": "https://localhost:8080/"
        },
        "id": "-3Mqf_AMjjcK",
        "outputId": "ce906a1e-9b75-4499-8804-0fb66205fa4c"
      },
      "execution_count": 32,
      "outputs": [
        {
          "output_type": "execute_result",
          "data": {
            "text/plain": [
              "tensor([ 9., 36., 81.])"
            ]
          },
          "metadata": {},
          "execution_count": 32
        }
      ]
    },
    {
      "cell_type": "code",
      "source": [
        "int_32_tensor=torch.tensor([3,6,9],dtype=torch.int64)\n",
        "int_32_tensor"
      ],
      "metadata": {
        "colab": {
          "base_uri": "https://localhost:8080/"
        },
        "id": "8s0ex5A5kb9Z",
        "outputId": "45fb4f63-a041-4901-e039-019121e6bafb"
      },
      "execution_count": 33,
      "outputs": [
        {
          "output_type": "execute_result",
          "data": {
            "text/plain": [
              "tensor([3, 6, 9])"
            ]
          },
          "metadata": {},
          "execution_count": 33
        }
      ]
    },
    {
      "cell_type": "code",
      "source": [
        "float_16_tensor*int_32_tensor"
      ],
      "metadata": {
        "colab": {
          "base_uri": "https://localhost:8080/"
        },
        "id": "oefaHDvlkvPm",
        "outputId": "00251628-dc23-4416-ba8d-b4699e89d319"
      },
      "execution_count": 34,
      "outputs": [
        {
          "output_type": "execute_result",
          "data": {
            "text/plain": [
              "tensor([ 9., 36., 81.], dtype=torch.float16)"
            ]
          },
          "metadata": {},
          "execution_count": 34
        }
      ]
    },
    {
      "cell_type": "code",
      "source": [
        "#Getting information from tensors\n",
        "#1.Tensors not right datatype. - To do get datatype from a tensor,can use 'tensor.dtype'\n",
        "#2.Tensors not right shape. -To get shape from tensor,can use 'tensor.shape'\n",
        "#3.Tensors not on the right device.-To get device from a tensor,can use 'tensor.device'"
      ],
      "metadata": {
        "id": "u-r9kiA4k1WQ"
      },
      "execution_count": 35,
      "outputs": []
    },
    {
      "cell_type": "code",
      "source": [
        "some_tensor=torch.rand(3,4)\n",
        "some_tensor"
      ],
      "metadata": {
        "colab": {
          "base_uri": "https://localhost:8080/"
        },
        "id": "llYufnMdlVvO",
        "outputId": "67fb8a4f-3b42-4adc-eab9-bd6014ac40f8"
      },
      "execution_count": 36,
      "outputs": [
        {
          "output_type": "execute_result",
          "data": {
            "text/plain": [
              "tensor([[0.4296, 0.1548, 0.9265, 0.5962],\n",
              "        [0.9166, 0.9278, 0.2004, 0.1632],\n",
              "        [0.0599, 0.5824, 0.2494, 0.4859]])"
            ]
          },
          "metadata": {},
          "execution_count": 36
        }
      ]
    },
    {
      "cell_type": "code",
      "source": [
        "some_tensor.size()"
      ],
      "metadata": {
        "colab": {
          "base_uri": "https://localhost:8080/"
        },
        "id": "2Pioaa4vnfce",
        "outputId": "dcb35a4e-63ee-4cf2-a021-3fabbeea3a94"
      },
      "execution_count": 37,
      "outputs": [
        {
          "output_type": "execute_result",
          "data": {
            "text/plain": [
              "torch.Size([3, 4])"
            ]
          },
          "metadata": {},
          "execution_count": 37
        }
      ]
    },
    {
      "cell_type": "code",
      "source": [
        "print(some_tensor)\n",
        "print(f\"Datatype of tensor:{some_tensor.dtype}\")\n",
        "print(f\"Shape of tensor:{some_tensor.shape}\")\n",
        "print(f\"Device the tensor is on:{some_tensor.device} \")"
      ],
      "metadata": {
        "colab": {
          "base_uri": "https://localhost:8080/"
        },
        "id": "DUbuV9VAmker",
        "outputId": "90336f24-d449-4fae-e140-d3c803516c4d"
      },
      "execution_count": 38,
      "outputs": [
        {
          "output_type": "stream",
          "name": "stdout",
          "text": [
            "tensor([[0.4296, 0.1548, 0.9265, 0.5962],\n",
            "        [0.9166, 0.9278, 0.2004, 0.1632],\n",
            "        [0.0599, 0.5824, 0.2494, 0.4859]])\n",
            "Datatype of tensor:torch.float32\n",
            "Shape of tensor:torch.Size([3, 4])\n",
            "Device the tensor is on:cpu \n"
          ]
        }
      ]
    },
    {
      "cell_type": "markdown",
      "source": [
        "Manipulating Tensors(Tensor Operations)\n",
        "Tensor operations include:\n",
        "*Addition\n",
        "*Subtraction\n",
        "*Multiplication(element-wise)\n",
        "*Division\n",
        "*Matrix multiplication"
      ],
      "metadata": {
        "id": "CKzSagTBs6PD"
      }
    },
    {
      "cell_type": "code",
      "source": [
        "#create tensor\n",
        "tensor=torch.tensor([1,2,3])\n",
        "tensor+10"
      ],
      "metadata": {
        "colab": {
          "base_uri": "https://localhost:8080/"
        },
        "id": "tZ2nrhEkoQu-",
        "outputId": "be93900f-9e1e-46cb-8cee-e9c9c8126e08"
      },
      "execution_count": 39,
      "outputs": [
        {
          "output_type": "execute_result",
          "data": {
            "text/plain": [
              "tensor([11, 12, 13])"
            ]
          },
          "metadata": {},
          "execution_count": 39
        }
      ]
    },
    {
      "cell_type": "code",
      "source": [
        "#multiply by 10\n",
        "tensor*10"
      ],
      "metadata": {
        "colab": {
          "base_uri": "https://localhost:8080/"
        },
        "id": "nCJGDEK6o9jL",
        "outputId": "67bb27e8-ba45-48b8-9d9e-091374b1a9db"
      },
      "execution_count": 40,
      "outputs": [
        {
          "output_type": "execute_result",
          "data": {
            "text/plain": [
              "tensor([10, 20, 30])"
            ]
          },
          "metadata": {},
          "execution_count": 40
        }
      ]
    },
    {
      "cell_type": "code",
      "source": [
        "tensor"
      ],
      "metadata": {
        "colab": {
          "base_uri": "https://localhost:8080/"
        },
        "id": "KnQiPpmkpHW3",
        "outputId": "01a792a2-4a7a-4498-cd07-7b047b896c7e"
      },
      "execution_count": 41,
      "outputs": [
        {
          "output_type": "execute_result",
          "data": {
            "text/plain": [
              "tensor([1, 2, 3])"
            ]
          },
          "metadata": {},
          "execution_count": 41
        }
      ]
    },
    {
      "cell_type": "code",
      "source": [
        "#Subtract 10\n",
        "tensor-10"
      ],
      "metadata": {
        "colab": {
          "base_uri": "https://localhost:8080/"
        },
        "id": "4dek-aPhpLGm",
        "outputId": "0608e943-90cd-47bc-aed9-f351342cfe25"
      },
      "execution_count": 42,
      "outputs": [
        {
          "output_type": "execute_result",
          "data": {
            "text/plain": [
              "tensor([-9, -8, -7])"
            ]
          },
          "metadata": {},
          "execution_count": 42
        }
      ]
    },
    {
      "cell_type": "code",
      "source": [
        "#Pytorch in-built functions\n",
        "torch.mul(tensor,10)"
      ],
      "metadata": {
        "colab": {
          "base_uri": "https://localhost:8080/"
        },
        "id": "GzSZ0NHjpPif",
        "outputId": "8a8f4434-434e-4bb6-b358-27b45d9cce0c"
      },
      "execution_count": 43,
      "outputs": [
        {
          "output_type": "execute_result",
          "data": {
            "text/plain": [
              "tensor([10, 20, 30])"
            ]
          },
          "metadata": {},
          "execution_count": 43
        }
      ]
    },
    {
      "cell_type": "code",
      "source": [
        "torch.add(tensor,15)"
      ],
      "metadata": {
        "colab": {
          "base_uri": "https://localhost:8080/"
        },
        "id": "C6Sv1OgopVHE",
        "outputId": "f4eb712b-05d9-47c5-9e5f-9409bc5dcf01"
      },
      "execution_count": 44,
      "outputs": [
        {
          "output_type": "execute_result",
          "data": {
            "text/plain": [
              "tensor([16, 17, 18])"
            ]
          },
          "metadata": {},
          "execution_count": 44
        }
      ]
    },
    {
      "cell_type": "markdown",
      "source": [
        "##Matrix Multiplication\n",
        "#Two main ways of performing multiplication in neural networks and deep learning:\n",
        "#1.Element wise multiplication\n",
        "#2.Matrix multiplication(dot product)\n",
        "#There are two main rules that performs matrix multiplication needs to satisfy:\n",
        "1.The **inner dimensions** must match:\n",
        "* '(3,2) @ (3,2)' won't work\n",
        "*(2,3) @ (3,2)' will work\n",
        "* (3,2) @ (2,3) will work\n",
        "2.The resulting matrix has the shape of the outer dimensions:\n",
        "*(2,3) @ (3,2) ->(2,2)\n",
        "*(3,2) @ (2,3)->(3,3)\n"
      ],
      "metadata": {
        "id": "sCWgJ2zqsxU1"
      }
    },
    {
      "cell_type": "code",
      "source": [
        "#ELEMENT WISE MULTIPLICATION\n",
        "print(tensor,\"*\",tensor)\n",
        "print(f\"Equals:{tensor*tensor}\")"
      ],
      "metadata": {
        "colab": {
          "base_uri": "https://localhost:8080/"
        },
        "id": "cIrVE-cdqAKO",
        "outputId": "25d64b5e-3e8f-4810-d9b9-47fea14b7ecd"
      },
      "execution_count": 45,
      "outputs": [
        {
          "output_type": "stream",
          "name": "stdout",
          "text": [
            "tensor([1, 2, 3]) * tensor([1, 2, 3])\n",
            "Equals:tensor([1, 4, 9])\n"
          ]
        }
      ]
    },
    {
      "cell_type": "code",
      "source": [
        "#usinf inbuilt func\n",
        "torch.matmul(tensor,tensor)"
      ],
      "metadata": {
        "colab": {
          "base_uri": "https://localhost:8080/"
        },
        "id": "DfSxjxhwqpnx",
        "outputId": "5d861b76-b47b-49e7-9628-5d537bdd9d52"
      },
      "execution_count": 46,
      "outputs": [
        {
          "output_type": "execute_result",
          "data": {
            "text/plain": [
              "tensor(14)"
            ]
          },
          "metadata": {},
          "execution_count": 46
        }
      ]
    },
    {
      "cell_type": "code",
      "source": [
        "%%time\n",
        "value=0\n",
        "for i in range(len(tensor)):\n",
        "  value+=tensor[i]*tensor[i]\n",
        "print(value)"
      ],
      "metadata": {
        "colab": {
          "base_uri": "https://localhost:8080/"
        },
        "id": "pwA0dN9Kq0li",
        "outputId": "d90b988f-e685-4fad-9c65-db0ae3b80cd6"
      },
      "execution_count": 47,
      "outputs": [
        {
          "output_type": "stream",
          "name": "stdout",
          "text": [
            "tensor(14)\n",
            "CPU times: user 1.07 ms, sys: 0 ns, total: 1.07 ms\n",
            "Wall time: 1.29 ms\n"
          ]
        }
      ]
    },
    {
      "cell_type": "code",
      "source": [
        "### one of the most common errors in deep learning :SHAPE ERRORS\n",
        "tensor_A=torch.tensor([[1,2],\n",
        "                       [3,4],\n",
        "                       [5,6]])\n",
        "tensor_B=torch.tensor([[7, 10],\n",
        "                      [8, 11],\n",
        "                      [9, 12]])\n",
        "torch.matmul(tensor_A,tensor_B)"
      ],
      "metadata": {
        "colab": {
          "base_uri": "https://localhost:8080/",
          "height": 210
        },
        "id": "WG8c7dpDrYOl",
        "outputId": "cdbdb39c-0b09-4f65-cdd3-3a8bb26ca97c"
      },
      "execution_count": 56,
      "outputs": [
        {
          "output_type": "error",
          "ename": "RuntimeError",
          "evalue": "mat1 and mat2 shapes cannot be multiplied (3x2 and 3x2)",
          "traceback": [
            "\u001b[0;31m---------------------------------------------------------------------------\u001b[0m",
            "\u001b[0;31mRuntimeError\u001b[0m                              Traceback (most recent call last)",
            "\u001b[0;32m<ipython-input-56-137d39e815f8>\u001b[0m in \u001b[0;36m<cell line: 8>\u001b[0;34m()\u001b[0m\n\u001b[1;32m      6\u001b[0m                       \u001b[0;34m[\u001b[0m\u001b[0;36m8\u001b[0m\u001b[0;34m,\u001b[0m \u001b[0;36m11\u001b[0m\u001b[0;34m]\u001b[0m\u001b[0;34m,\u001b[0m\u001b[0;34m\u001b[0m\u001b[0;34m\u001b[0m\u001b[0m\n\u001b[1;32m      7\u001b[0m                       [9, 12]])\n\u001b[0;32m----> 8\u001b[0;31m \u001b[0mtorch\u001b[0m\u001b[0;34m.\u001b[0m\u001b[0mmatmul\u001b[0m\u001b[0;34m(\u001b[0m\u001b[0mtensor_A\u001b[0m\u001b[0;34m,\u001b[0m\u001b[0mtensor_B\u001b[0m\u001b[0;34m)\u001b[0m\u001b[0;34m\u001b[0m\u001b[0;34m\u001b[0m\u001b[0m\n\u001b[0m",
            "\u001b[0;31mRuntimeError\u001b[0m: mat1 and mat2 shapes cannot be multiplied (3x2 and 3x2)"
          ]
        }
      ]
    },
    {
      "cell_type": "code",
      "source": [
        "tensor_A.shape,tensor_B.shape\n"
      ],
      "metadata": {
        "colab": {
          "base_uri": "https://localhost:8080/"
        },
        "id": "Y9hQoom0wjfA",
        "outputId": "6846a62f-3e71-470a-eacb-2166ec72fbad"
      },
      "execution_count": 57,
      "outputs": [
        {
          "output_type": "execute_result",
          "data": {
            "text/plain": [
              "(torch.Size([3, 2]), torch.Size([3, 2]))"
            ]
          },
          "metadata": {},
          "execution_count": 57
        }
      ]
    },
    {
      "cell_type": "markdown",
      "source": [
        "To fix our tensor shape issues,we can manipulate the shape of one of our tensors using a transpose.A tranpose switches the axes or dimensions of given tensor."
      ],
      "metadata": {
        "id": "xaNmdT4D5ZnV"
      }
    },
    {
      "cell_type": "code",
      "source": [
        "tensor_A.shape,tensor_B.shape\n"
      ],
      "metadata": {
        "colab": {
          "base_uri": "https://localhost:8080/"
        },
        "id": "WGQFVlRC37lP",
        "outputId": "de2251bb-931e-4f74-bc07-0da4c5f398b5"
      },
      "execution_count": 58,
      "outputs": [
        {
          "output_type": "execute_result",
          "data": {
            "text/plain": [
              "(torch.Size([3, 2]), torch.Size([3, 2]))"
            ]
          },
          "metadata": {},
          "execution_count": 58
        }
      ]
    },
    {
      "cell_type": "code",
      "source": [
        "tensor_B.shape, tensor_B"
      ],
      "metadata": {
        "colab": {
          "base_uri": "https://localhost:8080/"
        },
        "id": "6Xmkvcyn5--B",
        "outputId": "fbe316ff-546b-4088-ddc5-21f8f5d8cc6a"
      },
      "execution_count": 59,
      "outputs": [
        {
          "output_type": "execute_result",
          "data": {
            "text/plain": [
              "(torch.Size([3, 2]),\n",
              " tensor([[ 7, 10],\n",
              "         [ 8, 11],\n",
              "         [ 9, 12]]))"
            ]
          },
          "metadata": {},
          "execution_count": 59
        }
      ]
    },
    {
      "cell_type": "code",
      "source": [
        "tensor_B.T,tensor_B.T.shape"
      ],
      "metadata": {
        "colab": {
          "base_uri": "https://localhost:8080/"
        },
        "id": "3o9t60vZ6GjS",
        "outputId": "5533b8a7-153b-458a-cbd3-6a78bb8ea374"
      },
      "execution_count": 61,
      "outputs": [
        {
          "output_type": "execute_result",
          "data": {
            "text/plain": [
              "(tensor([[ 7,  8,  9],\n",
              "         [10, 11, 12]]),\n",
              " torch.Size([2, 3]))"
            ]
          },
          "metadata": {},
          "execution_count": 61
        }
      ]
    },
    {
      "cell_type": "code",
      "source": [
        "#The matrix multiplication operation works when tensor_B is transposed\n",
        "print(f\"Original shapes: tensor_A={tensor_A.shape},tensor_B.T={tensor_B.T.shape}\")\n",
        "print(f\"New shapes: tensor_A={tensor_A.shape}(same shape as above ),tensor_B.T={tensor_B.T.shape}\")\n",
        "print(f\"Multiplying:{tensor_A.shape} @ {tensor_B.T.shape} <- inner dimensions must match\")\n",
        "print(f\"output:\\n\")\n",
        "output=torch.matmul(tensor_A,tensor_B.T)\n",
        "print(output)\n",
        "print(f\"\\noutput shape: {output.shape}\")\n"
      ],
      "metadata": {
        "colab": {
          "base_uri": "https://localhost:8080/"
        },
        "id": "Z-mJ3ifR6g9j",
        "outputId": "4c088d54-506d-44df-daeb-80b72ba4b033"
      },
      "execution_count": 62,
      "outputs": [
        {
          "output_type": "stream",
          "name": "stdout",
          "text": [
            "Original shapes: tensor_A=torch.Size([3, 2]),tensor_B.T=torch.Size([2, 3])\n",
            "New shapes: tensor_A=torch.Size([3, 2])(same shape as above ),tensor_B.T=torch.Size([2, 3])\n",
            "Multiplying:torch.Size([3, 2]) @ torch.Size([2, 3]) <- inner dimensions must match\n",
            "output:\n",
            "\n",
            "tensor([[ 27,  30,  33],\n",
            "        [ 61,  68,  75],\n",
            "        [ 95, 106, 117]])\n",
            "\n",
            "output shape: torch.Size([3, 3])\n"
          ]
        }
      ]
    },
    {
      "cell_type": "code",
      "source": [],
      "metadata": {
        "id": "yRQpvl9h8not"
      },
      "execution_count": null,
      "outputs": []
    },
    {
      "cell_type": "markdown",
      "source": [
        "FIND THE MIN,MAX,MEAN,SUM, ETC(TENSOR AGGREGATION)"
      ],
      "metadata": {
        "id": "a4F3RNWz83Y0"
      }
    },
    {
      "cell_type": "code",
      "source": [
        "#create tensor\n",
        "x=torch.arange(0,100,10)\n",
        "x\n",
        "x.dtype"
      ],
      "metadata": {
        "colab": {
          "base_uri": "https://localhost:8080/"
        },
        "id": "NOZEFAYt8-zJ",
        "outputId": "40520f5c-64ac-4568-e4b0-6a978d84fb65"
      },
      "execution_count": 67,
      "outputs": [
        {
          "output_type": "execute_result",
          "data": {
            "text/plain": [
              "torch.int64"
            ]
          },
          "metadata": {},
          "execution_count": 67
        }
      ]
    },
    {
      "cell_type": "code",
      "source": [
        "#FIND MIN\n",
        "torch.min(x),x.min()"
      ],
      "metadata": {
        "colab": {
          "base_uri": "https://localhost:8080/"
        },
        "id": "pP6BSP8f9GRI",
        "outputId": "71049836-b7f5-4147-ca93-ff5c762c4778"
      },
      "execution_count": 68,
      "outputs": [
        {
          "output_type": "execute_result",
          "data": {
            "text/plain": [
              "(tensor(0), tensor(0))"
            ]
          },
          "metadata": {},
          "execution_count": 68
        }
      ]
    },
    {
      "cell_type": "code",
      "source": [
        "#Find the max\n",
        "torch.max(x),x.max()\n"
      ],
      "metadata": {
        "colab": {
          "base_uri": "https://localhost:8080/"
        },
        "id": "XS_DB03t9Uly",
        "outputId": "c38c0cbd-b1d0-4fcd-f157-1c5832ec6cbf"
      },
      "execution_count": 69,
      "outputs": [
        {
          "output_type": "execute_result",
          "data": {
            "text/plain": [
              "(tensor(90), tensor(90))"
            ]
          },
          "metadata": {},
          "execution_count": 69
        }
      ]
    },
    {
      "cell_type": "code",
      "source": [
        "#FIND MEAN NOTE: The torch.mean() function requires a tensor of float32 datatype so changing the type\n",
        "torch.mean(x.type(torch.float32)) #changing the type"
      ],
      "metadata": {
        "colab": {
          "base_uri": "https://localhost:8080/"
        },
        "id": "XPID7KS49jPL",
        "outputId": "ec88bdd6-6451-494e-be8f-b7cc50ca7bf7"
      },
      "execution_count": 76,
      "outputs": [
        {
          "output_type": "execute_result",
          "data": {
            "text/plain": [
              "tensor(45.)"
            ]
          },
          "metadata": {},
          "execution_count": 76
        }
      ]
    },
    {
      "cell_type": "code",
      "source": [
        "#Find sum\n",
        "torch.sum(x),x.sum()"
      ],
      "metadata": {
        "colab": {
          "base_uri": "https://localhost:8080/"
        },
        "id": "iVjCjISU9p1f",
        "outputId": "edd57d92-f0b3-4f19-b674-89718ed8a79c"
      },
      "execution_count": 77,
      "outputs": [
        {
          "output_type": "execute_result",
          "data": {
            "text/plain": [
              "(tensor(450), tensor(450))"
            ]
          },
          "metadata": {},
          "execution_count": 77
        }
      ]
    },
    {
      "cell_type": "code",
      "source": [],
      "metadata": {
        "id": "hZRFGvV1-vFf"
      },
      "execution_count": null,
      "outputs": []
    },
    {
      "cell_type": "markdown",
      "source": [
        "FINDING THE POSITIONAL MIN AND MAX"
      ],
      "metadata": {
        "id": "xUKdkxAs-6kQ"
      }
    },
    {
      "cell_type": "code",
      "source": [
        "x"
      ],
      "metadata": {
        "colab": {
          "base_uri": "https://localhost:8080/"
        },
        "id": "ZUPWxyfE--xY",
        "outputId": "a53d70a3-4a37-4025-8e98-1e92f210ac4c"
      },
      "execution_count": 78,
      "outputs": [
        {
          "output_type": "execute_result",
          "data": {
            "text/plain": [
              "tensor([ 0, 10, 20, 30, 40, 50, 60, 70, 80, 90])"
            ]
          },
          "metadata": {},
          "execution_count": 78
        }
      ]
    },
    {
      "cell_type": "code",
      "source": [
        "x.argmin() #Find the position in tensor that has the minimum value with the argmin()---> return index position of the target tensor where the minimum value occurs"
      ],
      "metadata": {
        "colab": {
          "base_uri": "https://localhost:8080/"
        },
        "id": "kRDrwCvg_AdF",
        "outputId": "a0bbb4bd-c149-47df-d841-f862caceb5e6"
      },
      "execution_count": 81,
      "outputs": [
        {
          "output_type": "execute_result",
          "data": {
            "text/plain": [
              "tensor(0)"
            ]
          },
          "metadata": {},
          "execution_count": 81
        }
      ]
    },
    {
      "cell_type": "code",
      "source": [
        "x[0]"
      ],
      "metadata": {
        "colab": {
          "base_uri": "https://localhost:8080/"
        },
        "id": "jKg5fBmA_B3u",
        "outputId": "3c447b69-4799-4e73-d46d-2f808e750f82"
      },
      "execution_count": 82,
      "outputs": [
        {
          "output_type": "execute_result",
          "data": {
            "text/plain": [
              "tensor(0)"
            ]
          },
          "metadata": {},
          "execution_count": 82
        }
      ]
    },
    {
      "cell_type": "code",
      "source": [
        "# Find the position in tensor that has the maximum value with the argmax()---> return index position of the target tensor where the maximum value occurs\n",
        "x.argmax()"
      ],
      "metadata": {
        "colab": {
          "base_uri": "https://localhost:8080/"
        },
        "id": "8ZX1SOz8_kft",
        "outputId": "8f118c1d-770f-4674-eca7-89ed00faaeb5"
      },
      "execution_count": 83,
      "outputs": [
        {
          "output_type": "execute_result",
          "data": {
            "text/plain": [
              "tensor(9)"
            ]
          },
          "metadata": {},
          "execution_count": 83
        }
      ]
    },
    {
      "cell_type": "code",
      "source": [],
      "metadata": {
        "id": "dek4DgJU_90T"
      },
      "execution_count": null,
      "outputs": []
    },
    {
      "cell_type": "code",
      "source": [],
      "metadata": {
        "id": "zWTmbSVN_zWh"
      },
      "execution_count": null,
      "outputs": []
    }
  ]
}