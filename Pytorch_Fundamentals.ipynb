{
  "nbformat": 4,
  "nbformat_minor": 0,
  "metadata": {
    "colab": {
      "provenance": [],
      "gpuType": "T4",
      "authorship_tag": "ABX9TyPHYw/jHlkUEc9HEagbRFVA",
      "include_colab_link": true
    },
    "kernelspec": {
      "name": "python3",
      "display_name": "Python 3"
    },
    "language_info": {
      "name": "python"
    },
    "accelerator": "GPU"
  },
  "cells": [
    {
      "cell_type": "markdown",
      "metadata": {
        "id": "view-in-github",
        "colab_type": "text"
      },
      "source": [
        "<a href=\"https://colab.research.google.com/github/PG-18/Pytorch-1/blob/main/Pytorch_Fundamentals.ipynb\" target=\"_parent\"><img src=\"https://colab.research.google.com/assets/colab-badge.svg\" alt=\"Open In Colab\"/></a>"
      ]
    },
    {
      "cell_type": "code",
      "execution_count": 1,
      "metadata": {
        "id": "p92M-PiT7_f0",
        "colab": {
          "base_uri": "https://localhost:8080/"
        },
        "outputId": "18728df4-830d-4861-dcd9-e7d39785a5dc"
      },
      "outputs": [
        {
          "output_type": "stream",
          "name": "stdout",
          "text": [
            "2.1.0+cu121\n"
          ]
        }
      ],
      "source": [
        "import torch\n",
        "import pandas as pd\n",
        "import numpy as np\n",
        "import matplotlib.pyplot as plt\n",
        "\n",
        "print(torch.__version__)"
      ]
    },
    {
      "cell_type": "markdown",
      "source": [],
      "metadata": {
        "id": "OZtbjx7A5rpD"
      }
    },
    {
      "cell_type": "markdown",
      "source": [
        "# Creating tensors\n"
      ],
      "metadata": {
        "id": "C7fDtDZQ5uHI"
      }
    },
    {
      "cell_type": "code",
      "source": [
        "scalar=torch.tensor(7)\n",
        "scalar"
      ],
      "metadata": {
        "colab": {
          "base_uri": "https://localhost:8080/"
        },
        "id": "1lWlCdWb5z7B",
        "outputId": "4a54dccc-99b7-4397-dcd2-8a1a4d41aa77"
      },
      "execution_count": 2,
      "outputs": [
        {
          "output_type": "execute_result",
          "data": {
            "text/plain": [
              "tensor(7)"
            ]
          },
          "metadata": {},
          "execution_count": 2
        }
      ]
    },
    {
      "cell_type": "code",
      "source": [
        "scalar.ndim"
      ],
      "metadata": {
        "colab": {
          "base_uri": "https://localhost:8080/"
        },
        "id": "Q-mrQgsZ6S45",
        "outputId": "339401e7-364f-4dcd-875f-0227070e1e9b"
      },
      "execution_count": 3,
      "outputs": [
        {
          "output_type": "execute_result",
          "data": {
            "text/plain": [
              "0"
            ]
          },
          "metadata": {},
          "execution_count": 3
        }
      ]
    },
    {
      "cell_type": "code",
      "source": [
        "scalar.item()"
      ],
      "metadata": {
        "colab": {
          "base_uri": "https://localhost:8080/"
        },
        "id": "ojVO04uT6VK9",
        "outputId": "a2f59fe1-de68-452d-f455-8665dc7c78f7"
      },
      "execution_count": 4,
      "outputs": [
        {
          "output_type": "execute_result",
          "data": {
            "text/plain": [
              "7"
            ]
          },
          "metadata": {},
          "execution_count": 4
        }
      ]
    },
    {
      "cell_type": "code",
      "source": [
        "vector=torch.tensor([7,7])\n",
        "vector"
      ],
      "metadata": {
        "colab": {
          "base_uri": "https://localhost:8080/"
        },
        "id": "bYEgH47C6Y02",
        "outputId": "92e737f5-e338-4136-9406-55d75b61c9bf"
      },
      "execution_count": 5,
      "outputs": [
        {
          "output_type": "execute_result",
          "data": {
            "text/plain": [
              "tensor([7, 7])"
            ]
          },
          "metadata": {},
          "execution_count": 5
        }
      ]
    },
    {
      "cell_type": "code",
      "source": [
        "vector.ndim"
      ],
      "metadata": {
        "colab": {
          "base_uri": "https://localhost:8080/"
        },
        "id": "STD2Hx1f6fri",
        "outputId": "ece721cf-4172-4c91-8db3-cc5eb5c129ae"
      },
      "execution_count": 6,
      "outputs": [
        {
          "output_type": "execute_result",
          "data": {
            "text/plain": [
              "1"
            ]
          },
          "metadata": {},
          "execution_count": 6
        }
      ]
    },
    {
      "cell_type": "code",
      "source": [
        "vector.shape"
      ],
      "metadata": {
        "colab": {
          "base_uri": "https://localhost:8080/"
        },
        "id": "2MGlLg-D65Hu",
        "outputId": "e157c06c-dee9-4558-a35d-f6df08cee816"
      },
      "execution_count": 7,
      "outputs": [
        {
          "output_type": "execute_result",
          "data": {
            "text/plain": [
              "torch.Size([2])"
            ]
          },
          "metadata": {},
          "execution_count": 7
        }
      ]
    },
    {
      "cell_type": "code",
      "source": [
        "#MATRIX\n",
        "MATRIX=torch.tensor([[7,8],\n",
        "                    [9,10]])\n",
        "MATRIX"
      ],
      "metadata": {
        "colab": {
          "base_uri": "https://localhost:8080/"
        },
        "id": "fGlQIynw68m3",
        "outputId": "0c339db8-9f08-479f-95d5-c043215b887d"
      },
      "execution_count": 8,
      "outputs": [
        {
          "output_type": "execute_result",
          "data": {
            "text/plain": [
              "tensor([[ 7,  8],\n",
              "        [ 9, 10]])"
            ]
          },
          "metadata": {},
          "execution_count": 8
        }
      ]
    },
    {
      "cell_type": "code",
      "source": [
        "MATRIX.ndim"
      ],
      "metadata": {
        "colab": {
          "base_uri": "https://localhost:8080/"
        },
        "id": "Azy0Cmi_xxk9",
        "outputId": "23621828-06c1-413e-a650-b75903ca62c3"
      },
      "execution_count": 9,
      "outputs": [
        {
          "output_type": "execute_result",
          "data": {
            "text/plain": [
              "2"
            ]
          },
          "metadata": {},
          "execution_count": 9
        }
      ]
    },
    {
      "cell_type": "code",
      "source": [
        " MATRIX[1]"
      ],
      "metadata": {
        "colab": {
          "base_uri": "https://localhost:8080/"
        },
        "id": "mlNOymZW7W0t",
        "outputId": "b25fcad5-db97-46d1-e4df-69cd796c8ee2"
      },
      "execution_count": 10,
      "outputs": [
        {
          "output_type": "execute_result",
          "data": {
            "text/plain": [
              "tensor([ 9, 10])"
            ]
          },
          "metadata": {},
          "execution_count": 10
        }
      ]
    },
    {
      "cell_type": "code",
      "source": [
        "MATRIX.shape"
      ],
      "metadata": {
        "colab": {
          "base_uri": "https://localhost:8080/"
        },
        "id": "L-xE2KmL7fHV",
        "outputId": "59ff0331-e3bb-4111-b455-3c77edda4f5b"
      },
      "execution_count": 11,
      "outputs": [
        {
          "output_type": "execute_result",
          "data": {
            "text/plain": [
              "torch.Size([2, 2])"
            ]
          },
          "metadata": {},
          "execution_count": 11
        }
      ]
    },
    {
      "cell_type": "code",
      "source": [
        "#TENSOR\n",
        "TENSOR=torch.tensor([[[1,2,3],\n",
        "                      [3,6,9],\n",
        "                      [2,4,5]]])\n",
        "TENSOR"
      ],
      "metadata": {
        "colab": {
          "base_uri": "https://localhost:8080/"
        },
        "id": "d8UIjFkh7iAc",
        "outputId": "2f58f1d9-f48f-432b-872f-08921ab609ee"
      },
      "execution_count": 12,
      "outputs": [
        {
          "output_type": "execute_result",
          "data": {
            "text/plain": [
              "tensor([[[1, 2, 3],\n",
              "         [3, 6, 9],\n",
              "         [2, 4, 5]]])"
            ]
          },
          "metadata": {},
          "execution_count": 12
        }
      ]
    },
    {
      "cell_type": "code",
      "source": [
        "TENSOR.ndim"
      ],
      "metadata": {
        "colab": {
          "base_uri": "https://localhost:8080/"
        },
        "id": "VBDMFRyd7yzU",
        "outputId": "08c031e2-e6ac-4d9b-c549-ede6409ec492"
      },
      "execution_count": 13,
      "outputs": [
        {
          "output_type": "execute_result",
          "data": {
            "text/plain": [
              "3"
            ]
          },
          "metadata": {},
          "execution_count": 13
        }
      ]
    },
    {
      "cell_type": "code",
      "source": [
        "TENSOR.shape"
      ],
      "metadata": {
        "colab": {
          "base_uri": "https://localhost:8080/"
        },
        "id": "rnIKFDws8AjK",
        "outputId": "1c026574-7ff0-4cbe-e385-cd3c446b877b"
      },
      "execution_count": 14,
      "outputs": [
        {
          "output_type": "execute_result",
          "data": {
            "text/plain": [
              "torch.Size([1, 3, 3])"
            ]
          },
          "metadata": {},
          "execution_count": 14
        }
      ]
    },
    {
      "cell_type": "code",
      "source": [
        "TENSOR[0]"
      ],
      "metadata": {
        "colab": {
          "base_uri": "https://localhost:8080/"
        },
        "id": "NW6GHN8i8Cct",
        "outputId": "12a45552-c0f7-458b-e99d-730ff1b1f299"
      },
      "execution_count": 15,
      "outputs": [
        {
          "output_type": "execute_result",
          "data": {
            "text/plain": [
              "tensor([[1, 2, 3],\n",
              "        [3, 6, 9],\n",
              "        [2, 4, 5]])"
            ]
          },
          "metadata": {},
          "execution_count": 15
        }
      ]
    },
    {
      "cell_type": "code",
      "source": [],
      "metadata": {
        "id": "Jpcv2haVzf43"
      },
      "execution_count": 15,
      "outputs": []
    },
    {
      "cell_type": "markdown",
      "source": [
        "RANDOM TENSORS\n"
      ],
      "metadata": {
        "id": "gdTnk7b90n2f"
      }
    },
    {
      "cell_type": "markdown",
      "source": [
        "Why random tensors?\n",
        "\n",
        "Random tensors are important because the way many neural networks learn is that they start with tensors full of random numbers and then adjust those random numbers to be better represent the data.\n",
        "\n",
        "\n",
        "Start with random numbers->look at data->update random numbers\n"
      ],
      "metadata": {
        "id": "ZrC58x9B1SQX"
      }
    },
    {
      "cell_type": "code",
      "source": [
        "#Create a random tensor of size(3,4)\n",
        "random_tensor=torch.rand(3,4)\n",
        "random_tensor"
      ],
      "metadata": {
        "colab": {
          "base_uri": "https://localhost:8080/"
        },
        "id": "RszxGyPC1yho",
        "outputId": "186f20e4-7165-4351-82d8-43a216d18b9b"
      },
      "execution_count": 16,
      "outputs": [
        {
          "output_type": "execute_result",
          "data": {
            "text/plain": [
              "tensor([[0.7828, 0.6838, 0.1448, 0.7195],\n",
              "        [0.2745, 0.5800, 0.2119, 0.4236],\n",
              "        [0.7486, 0.6949, 0.7885, 0.3761]])"
            ]
          },
          "metadata": {},
          "execution_count": 16
        }
      ]
    },
    {
      "cell_type": "code",
      "source": [
        "random_tensor=torch.rand(10,10)\n",
        "random_tensor"
      ],
      "metadata": {
        "colab": {
          "base_uri": "https://localhost:8080/"
        },
        "id": "9tg1WWysquPd",
        "outputId": "f3514979-c0f4-4b5f-f28f-e2b26e740203"
      },
      "execution_count": 17,
      "outputs": [
        {
          "output_type": "execute_result",
          "data": {
            "text/plain": [
              "tensor([[0.2614, 0.6679, 0.7584, 0.2553, 0.4891, 0.4480, 0.4961, 0.6204, 0.1722,\n",
              "         0.7650],\n",
              "        [0.8909, 0.1770, 0.1592, 0.3853, 0.0929, 0.1205, 0.3703, 0.4983, 0.8676,\n",
              "         0.4525],\n",
              "        [0.1686, 0.0539, 0.3260, 0.7742, 0.1177, 0.9601, 0.9971, 0.5131, 0.6900,\n",
              "         0.0438],\n",
              "        [0.2991, 0.0146, 0.6783, 0.2303, 0.3962, 0.4472, 0.7545, 0.8230, 0.1594,\n",
              "         0.7330],\n",
              "        [0.8754, 0.4919, 0.8018, 0.4124, 0.9251, 0.4659, 0.8617, 0.4979, 0.3760,\n",
              "         0.9021],\n",
              "        [0.9579, 0.1182, 0.3161, 0.3199, 0.9029, 0.9709, 0.2995, 0.2570, 0.5222,\n",
              "         0.9452],\n",
              "        [0.8977, 0.2946, 0.6234, 0.7508, 0.5148, 0.9574, 0.7287, 0.6798, 0.8035,\n",
              "         0.4161],\n",
              "        [0.4130, 0.9742, 0.2059, 0.1339, 0.8953, 0.9653, 0.0216, 0.7735, 0.0852,\n",
              "         0.2828],\n",
              "        [0.3061, 0.0280, 0.2199, 0.7626, 0.8422, 0.0091, 0.8785, 0.2328, 0.4894,\n",
              "         0.3643],\n",
              "        [0.7805, 0.4755, 0.3762, 0.8539, 0.1774, 0.0665, 0.5291, 0.3873, 0.0313,\n",
              "         0.8598]])"
            ]
          },
          "metadata": {},
          "execution_count": 17
        }
      ]
    },
    {
      "cell_type": "code",
      "source": [
        "#Create a random tensor with similar shape to an image tensor\n",
        "random_image_size_tensor=torch.rand(size=(224,224,3))#height,width,colour channelS (R,G,B)\n",
        "random_image_size_tensor.shape,\n",
        "random_image_size_tensor.ndim"
      ],
      "metadata": {
        "colab": {
          "base_uri": "https://localhost:8080/"
        },
        "id": "kOW9uBvFr3J_",
        "outputId": "9726ccf2-1f29-402b-984b-958bef463966"
      },
      "execution_count": 18,
      "outputs": [
        {
          "output_type": "execute_result",
          "data": {
            "text/plain": [
              "3"
            ]
          },
          "metadata": {},
          "execution_count": 18
        }
      ]
    },
    {
      "cell_type": "code",
      "source": [
        "torch.rand(3,3)"
      ],
      "metadata": {
        "colab": {
          "base_uri": "https://localhost:8080/"
        },
        "id": "9Q7yoYWBsVWk",
        "outputId": "9cdbc62d-e89e-43ea-8645-3255f2b46942"
      },
      "execution_count": 19,
      "outputs": [
        {
          "output_type": "execute_result",
          "data": {
            "text/plain": [
              "tensor([[0.9856, 0.3796, 0.7853],\n",
              "        [0.7787, 0.4123, 0.0775],\n",
              "        [0.0258, 0.2599, 0.2298]])"
            ]
          },
          "metadata": {},
          "execution_count": 19
        }
      ]
    },
    {
      "cell_type": "markdown",
      "source": [
        "ZEROS AND ONES\n"
      ],
      "metadata": {
        "id": "RJDfwVsTt8RZ"
      }
    },
    {
      "cell_type": "code",
      "source": [
        "#Create a tensor of all zeroes\n",
        "zeros=torch.zeros(size=(3,4))\n",
        "zeros"
      ],
      "metadata": {
        "colab": {
          "base_uri": "https://localhost:8080/"
        },
        "id": "ezghVKB7t-ud",
        "outputId": "afd539d6-c0d9-4eb4-f197-4e4141aae545"
      },
      "execution_count": 20,
      "outputs": [
        {
          "output_type": "execute_result",
          "data": {
            "text/plain": [
              "tensor([[0., 0., 0., 0.],\n",
              "        [0., 0., 0., 0.],\n",
              "        [0., 0., 0., 0.]])"
            ]
          },
          "metadata": {},
          "execution_count": 20
        }
      ]
    },
    {
      "cell_type": "code",
      "source": [
        "#create a tensor of all ones\n",
        "ones=torch.ones(size=(3,4))\n",
        "ones"
      ],
      "metadata": {
        "colab": {
          "base_uri": "https://localhost:8080/"
        },
        "id": "WyaqTgSEuLSp",
        "outputId": "922985c4-9630-425d-f09c-e918a3e8b240"
      },
      "execution_count": 21,
      "outputs": [
        {
          "output_type": "execute_result",
          "data": {
            "text/plain": [
              "tensor([[1., 1., 1., 1.],\n",
              "        [1., 1., 1., 1.],\n",
              "        [1., 1., 1., 1.]])"
            ]
          },
          "metadata": {},
          "execution_count": 21
        }
      ]
    },
    {
      "cell_type": "code",
      "source": [
        "ones.dtype"
      ],
      "metadata": {
        "colab": {
          "base_uri": "https://localhost:8080/"
        },
        "id": "8b4985t9ubo5",
        "outputId": "ce12d0c1-75ca-43b1-9b89-772987d117df"
      },
      "execution_count": 22,
      "outputs": [
        {
          "output_type": "execute_result",
          "data": {
            "text/plain": [
              "torch.float32"
            ]
          },
          "metadata": {},
          "execution_count": 22
        }
      ]
    },
    {
      "cell_type": "markdown",
      "source": [
        "Creating a  range of tensor and tensors like\n"
      ],
      "metadata": {
        "id": "5JgHc7as61Y4"
      }
    },
    {
      "cell_type": "code",
      "source": [
        " #Use torch.range()\n",
        " one_to_ten=torch.arange(start=1,end=1000,step=77)\n",
        " one_to_ten"
      ],
      "metadata": {
        "colab": {
          "base_uri": "https://localhost:8080/"
        },
        "id": "ccXTicuhuywl",
        "outputId": "525dc83f-da20-4901-fd77-9cfd15ea793d"
      },
      "execution_count": 23,
      "outputs": [
        {
          "output_type": "execute_result",
          "data": {
            "text/plain": [
              "tensor([  1,  78, 155, 232, 309, 386, 463, 540, 617, 694, 771, 848, 925])"
            ]
          },
          "metadata": {},
          "execution_count": 23
        }
      ]
    },
    {
      "cell_type": "code",
      "source": [
        "one_to_ten=torch.arange(1,11,1)\n",
        "one_to_ten"
      ],
      "metadata": {
        "id": "HDGwYGJ97Zg1",
        "colab": {
          "base_uri": "https://localhost:8080/"
        },
        "outputId": "6b8675c8-593c-4028-9723-a4ce77ce9b60"
      },
      "execution_count": 24,
      "outputs": [
        {
          "output_type": "execute_result",
          "data": {
            "text/plain": [
              "tensor([ 1,  2,  3,  4,  5,  6,  7,  8,  9, 10])"
            ]
          },
          "metadata": {},
          "execution_count": 24
        }
      ]
    },
    {
      "cell_type": "code",
      "source": [
        "#creating tensors like\n",
        "ten_zeros=torch.zeros_like(input=one_to_ten)\n",
        "ten_zeros\n",
        "#zeros like 1 to 10\n"
      ],
      "metadata": {
        "colab": {
          "base_uri": "https://localhost:8080/"
        },
        "id": "WXWtcwFHF9fw",
        "outputId": "c95b1c15-4b2c-4ecd-e1cb-2a1d632f1e41"
      },
      "execution_count": 25,
      "outputs": [
        {
          "output_type": "execute_result",
          "data": {
            "text/plain": [
              "tensor([0, 0, 0, 0, 0, 0, 0, 0, 0, 0])"
            ]
          },
          "metadata": {},
          "execution_count": 25
        }
      ]
    },
    {
      "cell_type": "markdown",
      "source": [
        "TENSOR DATATYPES\n",
        "Note: Tensor datatypes is one of the 3 big errors you qill run into Pytorch & deeplearning.\n",
        "1.Tensors not right datatype.\n",
        "2.Tensors not right shape.\n",
        "3.Tensors not on the right device."
      ],
      "metadata": {
        "id": "RrPe_sY1JPyK"
      }
    },
    {
      "cell_type": "code",
      "source": [
        "#Float 32 tensor"
      ],
      "metadata": {
        "id": "9u271zQ2IF4N"
      },
      "execution_count": 26,
      "outputs": []
    },
    {
      "cell_type": "code",
      "source": [
        "float_32_tensor=torch.tensor([3.0,6.0,9.0],\n",
        "                             dtype=None)\n",
        "float_32_tensor"
      ],
      "metadata": {
        "colab": {
          "base_uri": "https://localhost:8080/"
        },
        "id": "uqylZXcVJYxp",
        "outputId": "6528a8cb-0eb4-470c-8832-e94915920304"
      },
      "execution_count": 27,
      "outputs": [
        {
          "output_type": "execute_result",
          "data": {
            "text/plain": [
              "tensor([3., 6., 9.])"
            ]
          },
          "metadata": {},
          "execution_count": 27
        }
      ]
    },
    {
      "cell_type": "code",
      "source": [
        "float_32_tensor=torch.tensor([3.0,6.0,9.0],\n",
        "                             dtype=torch.float32)\n",
        "float_32_tensor"
      ],
      "metadata": {
        "colab": {
          "base_uri": "https://localhost:8080/"
        },
        "id": "hjCQR0l6JqXq",
        "outputId": "c72aad5b-a092-42f9-9cdf-2352641cdfdb"
      },
      "execution_count": 28,
      "outputs": [
        {
          "output_type": "execute_result",
          "data": {
            "text/plain": [
              "tensor([3., 6., 9.])"
            ]
          },
          "metadata": {},
          "execution_count": 28
        }
      ]
    },
    {
      "cell_type": "code",
      "source": [
        "float_32_tensor=torch.tensor([3.0,6.0,9.0],\n",
        "                             dtype=None, #what datatype is your tensor (e.g: float32 or float16)\n",
        "                             device=None,#what device is your tensor on\n",
        "                             requires_grad=False)#whether or not to track gradients with this tensor\n",
        "float_32_tensor"
      ],
      "metadata": {
        "colab": {
          "base_uri": "https://localhost:8080/"
        },
        "id": "M9BQE4_gKKO8",
        "outputId": "65c189a0-d0b9-4266-ebbe-065c99e64598"
      },
      "execution_count": 29,
      "outputs": [
        {
          "output_type": "execute_result",
          "data": {
            "text/plain": [
              "tensor([3., 6., 9.])"
            ]
          },
          "metadata": {},
          "execution_count": 29
        }
      ]
    },
    {
      "cell_type": "code",
      "source": [
        "float_32_tensor.dtype"
      ],
      "metadata": {
        "colab": {
          "base_uri": "https://localhost:8080/"
        },
        "id": "sSiGj2OojIL4",
        "outputId": "1933f3c6-0c55-410a-c5b0-336a92ac7cf9"
      },
      "execution_count": 30,
      "outputs": [
        {
          "output_type": "execute_result",
          "data": {
            "text/plain": [
              "torch.float32"
            ]
          },
          "metadata": {},
          "execution_count": 30
        }
      ]
    },
    {
      "cell_type": "code",
      "source": [
        "float_16_tensor=float_32_tensor.type(torch.float16)\n",
        "float_16_tensor"
      ],
      "metadata": {
        "colab": {
          "base_uri": "https://localhost:8080/"
        },
        "id": "tYfzjrSvjc6E",
        "outputId": "c05613fd-e5d8-41df-ad15-fef02dd83179"
      },
      "execution_count": 31,
      "outputs": [
        {
          "output_type": "execute_result",
          "data": {
            "text/plain": [
              "tensor([3., 6., 9.], dtype=torch.float16)"
            ]
          },
          "metadata": {},
          "execution_count": 31
        }
      ]
    },
    {
      "cell_type": "code",
      "source": [
        "float_16_tensor*float_32_tensor"
      ],
      "metadata": {
        "colab": {
          "base_uri": "https://localhost:8080/"
        },
        "id": "-3Mqf_AMjjcK",
        "outputId": "b5b7e0f7-3c66-476b-cf53-d77ec8766200"
      },
      "execution_count": 32,
      "outputs": [
        {
          "output_type": "execute_result",
          "data": {
            "text/plain": [
              "tensor([ 9., 36., 81.])"
            ]
          },
          "metadata": {},
          "execution_count": 32
        }
      ]
    },
    {
      "cell_type": "code",
      "source": [
        "int_32_tensor=torch.tensor([3,6,9],dtype=torch.int64)\n",
        "int_32_tensor"
      ],
      "metadata": {
        "colab": {
          "base_uri": "https://localhost:8080/"
        },
        "id": "8s0ex5A5kb9Z",
        "outputId": "e9b6c612-6ec7-4c0b-a268-b88e9d722224"
      },
      "execution_count": 33,
      "outputs": [
        {
          "output_type": "execute_result",
          "data": {
            "text/plain": [
              "tensor([3, 6, 9])"
            ]
          },
          "metadata": {},
          "execution_count": 33
        }
      ]
    },
    {
      "cell_type": "code",
      "source": [
        "float_16_tensor*int_32_tensor"
      ],
      "metadata": {
        "colab": {
          "base_uri": "https://localhost:8080/"
        },
        "id": "oefaHDvlkvPm",
        "outputId": "bb5bb5fd-ed4a-439f-e5f3-dc4c001693ab"
      },
      "execution_count": 34,
      "outputs": [
        {
          "output_type": "execute_result",
          "data": {
            "text/plain": [
              "tensor([ 9., 36., 81.], dtype=torch.float16)"
            ]
          },
          "metadata": {},
          "execution_count": 34
        }
      ]
    },
    {
      "cell_type": "code",
      "source": [
        "#Getting information from tensors\n",
        "#1.Tensors not right datatype. - To do get datatype from a tensor,can use 'tensor.dtype'\n",
        "#2.Tensors not right shape. -To get shape from tensor,can use 'tensor.shape'\n",
        "#3.Tensors not on the right device.-To get device from a tensor,can use 'tensor.device'"
      ],
      "metadata": {
        "id": "u-r9kiA4k1WQ"
      },
      "execution_count": 35,
      "outputs": []
    },
    {
      "cell_type": "code",
      "source": [
        "some_tensor=torch.rand(3,4)\n",
        "some_tensor"
      ],
      "metadata": {
        "colab": {
          "base_uri": "https://localhost:8080/"
        },
        "id": "llYufnMdlVvO",
        "outputId": "1d78898e-06ba-4d59-fadd-a418f374147c"
      },
      "execution_count": 36,
      "outputs": [
        {
          "output_type": "execute_result",
          "data": {
            "text/plain": [
              "tensor([[0.4577, 0.5792, 0.5419, 0.1403],\n",
              "        [0.0917, 0.2571, 0.9995, 0.1501],\n",
              "        [0.8258, 0.4144, 0.6766, 0.7198]])"
            ]
          },
          "metadata": {},
          "execution_count": 36
        }
      ]
    },
    {
      "cell_type": "code",
      "source": [
        "some_tensor.size()"
      ],
      "metadata": {
        "colab": {
          "base_uri": "https://localhost:8080/"
        },
        "id": "2Pioaa4vnfce",
        "outputId": "63916959-9a9a-4a8c-9004-afb3c36e3d4e"
      },
      "execution_count": 37,
      "outputs": [
        {
          "output_type": "execute_result",
          "data": {
            "text/plain": [
              "torch.Size([3, 4])"
            ]
          },
          "metadata": {},
          "execution_count": 37
        }
      ]
    },
    {
      "cell_type": "code",
      "source": [
        "print(some_tensor)\n",
        "print(f\"Datatype of tensor:{some_tensor.dtype}\")\n",
        "print(f\"Shape of tensor:{some_tensor.shape}\")\n",
        "print(f\"Device the tensor is on:{some_tensor.device} \")"
      ],
      "metadata": {
        "colab": {
          "base_uri": "https://localhost:8080/"
        },
        "id": "DUbuV9VAmker",
        "outputId": "55140cba-95cd-4358-f7ae-4d5d15c50ce2"
      },
      "execution_count": 38,
      "outputs": [
        {
          "output_type": "stream",
          "name": "stdout",
          "text": [
            "tensor([[0.4577, 0.5792, 0.5419, 0.1403],\n",
            "        [0.0917, 0.2571, 0.9995, 0.1501],\n",
            "        [0.8258, 0.4144, 0.6766, 0.7198]])\n",
            "Datatype of tensor:torch.float32\n",
            "Shape of tensor:torch.Size([3, 4])\n",
            "Device the tensor is on:cpu \n"
          ]
        }
      ]
    },
    {
      "cell_type": "markdown",
      "source": [
        "Manipulating Tensors(Tensor Operations)\n",
        "Tensor operations include:\n",
        "*Addition\n",
        "*Subtraction\n",
        "*Multiplication(element-wise)\n",
        "*Division\n",
        "*Matrix multiplication"
      ],
      "metadata": {
        "id": "CKzSagTBs6PD"
      }
    },
    {
      "cell_type": "code",
      "source": [
        "#create tensor\n",
        "tensor=torch.tensor([1,2,3])\n",
        "tensor+10"
      ],
      "metadata": {
        "colab": {
          "base_uri": "https://localhost:8080/"
        },
        "id": "tZ2nrhEkoQu-",
        "outputId": "80f556c0-3930-4889-df29-c75390c912c6"
      },
      "execution_count": 39,
      "outputs": [
        {
          "output_type": "execute_result",
          "data": {
            "text/plain": [
              "tensor([11, 12, 13])"
            ]
          },
          "metadata": {},
          "execution_count": 39
        }
      ]
    },
    {
      "cell_type": "code",
      "source": [
        "#multiply by 10\n",
        "tensor*10"
      ],
      "metadata": {
        "colab": {
          "base_uri": "https://localhost:8080/"
        },
        "id": "nCJGDEK6o9jL",
        "outputId": "018970f3-da0a-4dc9-ef0b-54fe620920b3"
      },
      "execution_count": 40,
      "outputs": [
        {
          "output_type": "execute_result",
          "data": {
            "text/plain": [
              "tensor([10, 20, 30])"
            ]
          },
          "metadata": {},
          "execution_count": 40
        }
      ]
    },
    {
      "cell_type": "code",
      "source": [
        "tensor"
      ],
      "metadata": {
        "colab": {
          "base_uri": "https://localhost:8080/"
        },
        "id": "KnQiPpmkpHW3",
        "outputId": "ada50529-ea3a-4e73-b17a-6225c4afad27"
      },
      "execution_count": 41,
      "outputs": [
        {
          "output_type": "execute_result",
          "data": {
            "text/plain": [
              "tensor([1, 2, 3])"
            ]
          },
          "metadata": {},
          "execution_count": 41
        }
      ]
    },
    {
      "cell_type": "code",
      "source": [
        "#Subtract 10\n",
        "tensor-10"
      ],
      "metadata": {
        "colab": {
          "base_uri": "https://localhost:8080/"
        },
        "id": "4dek-aPhpLGm",
        "outputId": "84f57504-b9d5-4fba-cd39-8d9f7a7633fd"
      },
      "execution_count": 42,
      "outputs": [
        {
          "output_type": "execute_result",
          "data": {
            "text/plain": [
              "tensor([-9, -8, -7])"
            ]
          },
          "metadata": {},
          "execution_count": 42
        }
      ]
    },
    {
      "cell_type": "code",
      "source": [
        "#Pytorch in-built functions\n",
        "torch.mul(tensor,10)"
      ],
      "metadata": {
        "colab": {
          "base_uri": "https://localhost:8080/"
        },
        "id": "GzSZ0NHjpPif",
        "outputId": "f7c92960-ca8c-44a8-e609-7a39bdb57f5e"
      },
      "execution_count": 43,
      "outputs": [
        {
          "output_type": "execute_result",
          "data": {
            "text/plain": [
              "tensor([10, 20, 30])"
            ]
          },
          "metadata": {},
          "execution_count": 43
        }
      ]
    },
    {
      "cell_type": "code",
      "source": [
        "torch.add(tensor,15)"
      ],
      "metadata": {
        "colab": {
          "base_uri": "https://localhost:8080/"
        },
        "id": "C6Sv1OgopVHE",
        "outputId": "68363890-2af3-47b0-8b5f-38c32ce5ff11"
      },
      "execution_count": 44,
      "outputs": [
        {
          "output_type": "execute_result",
          "data": {
            "text/plain": [
              "tensor([16, 17, 18])"
            ]
          },
          "metadata": {},
          "execution_count": 44
        }
      ]
    },
    {
      "cell_type": "markdown",
      "source": [
        "#Matrix Multiplication\n",
        "#Two main ways of performing multiplication in neural networks and deep learning:\n",
        "#1.Element wise multiplication\n",
        "#2.Matrix multiplication(dot product)\n",
        "#There are two main rules that performs matrix multiplication needs to satisfy:\n",
        "1.The **inner dimensions** must match:\n",
        "* '(3,2) @ (3,2)' won't work\n",
        "*(2,3) @ (3,2)' will work\n",
        "* (3,2) @ (2,3) will work\n",
        "2.The resulting matrix has the shape of the outer dimensions:\n",
        "*(2,3) @ (3,2) ->(2,2)\n",
        "*(3,2) @ (2,3)->(3,3)\n"
      ],
      "metadata": {
        "id": "sCWgJ2zqsxU1"
      }
    },
    {
      "cell_type": "code",
      "source": [
        "#ELEMENT WISE MULTIPLICATION\n",
        "print(tensor,\"*\",tensor)\n",
        "print(f\"Equals:{tensor*tensor}\")"
      ],
      "metadata": {
        "colab": {
          "base_uri": "https://localhost:8080/"
        },
        "id": "cIrVE-cdqAKO",
        "outputId": "5a3feba9-fc5d-4f8b-9c27-280f1c353cc7"
      },
      "execution_count": 45,
      "outputs": [
        {
          "output_type": "stream",
          "name": "stdout",
          "text": [
            "tensor([1, 2, 3]) * tensor([1, 2, 3])\n",
            "Equals:tensor([1, 4, 9])\n"
          ]
        }
      ]
    },
    {
      "cell_type": "code",
      "source": [
        "#usinf inbuilt func\n",
        "torch.matmul(tensor,tensor)"
      ],
      "metadata": {
        "colab": {
          "base_uri": "https://localhost:8080/"
        },
        "id": "DfSxjxhwqpnx",
        "outputId": "294a36c1-030c-4399-b735-97e57156fec5"
      },
      "execution_count": 46,
      "outputs": [
        {
          "output_type": "execute_result",
          "data": {
            "text/plain": [
              "tensor(14)"
            ]
          },
          "metadata": {},
          "execution_count": 46
        }
      ]
    },
    {
      "cell_type": "code",
      "source": [
        "%%time\n",
        "value=0\n",
        "for i in range(len(tensor)):\n",
        "  value+=tensor[i]*tensor[i]\n",
        "print(value)"
      ],
      "metadata": {
        "colab": {
          "base_uri": "https://localhost:8080/"
        },
        "id": "pwA0dN9Kq0li",
        "outputId": "dc90b4bf-cd01-4bc0-cd07-06df0451401f"
      },
      "execution_count": 47,
      "outputs": [
        {
          "output_type": "stream",
          "name": "stdout",
          "text": [
            "tensor(14)\n",
            "CPU times: user 1.16 ms, sys: 2.04 ms, total: 3.2 ms\n",
            "Wall time: 3.12 ms\n"
          ]
        }
      ]
    },
    {
      "cell_type": "code",
      "source": [
        "### one of the most common errors in deep learning :SHAPE ERRORS\n",
        "tensor_A=torch.tensor([[1,2],\n",
        "                       [3,4],\n",
        "                       [5,6]])\n",
        "tensor_B=torch.tensor([[7, 10],\n",
        "                      [8, 11],\n",
        "                      [9, 12]])\n",
        "torch.matmul(tensor_A,tensor_B)"
      ],
      "metadata": {
        "colab": {
          "base_uri": "https://localhost:8080/",
          "height": 210
        },
        "id": "WG8c7dpDrYOl",
        "outputId": "81e05c3b-167d-4fb3-f199-9534682cdee3"
      },
      "execution_count": 53,
      "outputs": [
        {
          "output_type": "error",
          "ename": "RuntimeError",
          "evalue": "mat1 and mat2 shapes cannot be multiplied (3x2 and 3x2)",
          "traceback": [
            "\u001b[0;31m---------------------------------------------------------------------------\u001b[0m",
            "\u001b[0;31mRuntimeError\u001b[0m                              Traceback (most recent call last)",
            "\u001b[0;32m<ipython-input-53-137d39e815f8>\u001b[0m in \u001b[0;36m<cell line: 8>\u001b[0;34m()\u001b[0m\n\u001b[1;32m      6\u001b[0m                       \u001b[0;34m[\u001b[0m\u001b[0;36m8\u001b[0m\u001b[0;34m,\u001b[0m \u001b[0;36m11\u001b[0m\u001b[0;34m]\u001b[0m\u001b[0;34m,\u001b[0m\u001b[0;34m\u001b[0m\u001b[0;34m\u001b[0m\u001b[0m\n\u001b[1;32m      7\u001b[0m                       [9, 12]])\n\u001b[0;32m----> 8\u001b[0;31m \u001b[0mtorch\u001b[0m\u001b[0;34m.\u001b[0m\u001b[0mmatmul\u001b[0m\u001b[0;34m(\u001b[0m\u001b[0mtensor_A\u001b[0m\u001b[0;34m,\u001b[0m\u001b[0mtensor_B\u001b[0m\u001b[0;34m)\u001b[0m\u001b[0;34m\u001b[0m\u001b[0;34m\u001b[0m\u001b[0m\n\u001b[0m",
            "\u001b[0;31mRuntimeError\u001b[0m: mat1 and mat2 shapes cannot be multiplied (3x2 and 3x2)"
          ]
        }
      ]
    },
    {
      "cell_type": "code",
      "source": [
        "tensor_A.shape,tensor_B.shape\n"
      ],
      "metadata": {
        "id": "Y9hQoom0wjfA",
        "colab": {
          "base_uri": "https://localhost:8080/"
        },
        "outputId": "f678823e-b9f5-4914-d2a0-fedbf7860f59"
      },
      "execution_count": 54,
      "outputs": [
        {
          "output_type": "execute_result",
          "data": {
            "text/plain": [
              "(torch.Size([3, 2]), torch.Size([3, 2]))"
            ]
          },
          "metadata": {},
          "execution_count": 54
        }
      ]
    },
    {
      "cell_type": "markdown",
      "source": [
        "To fix our tensor shape issues,we can manipulate the shape of one of our tensors using a transpose.A **tranpose** switches the axes or dimensions of given tensor.\n",
        "\n",
        "> Indented block\n",
        "\n"
      ],
      "metadata": {
        "id": "xaNmdT4D5ZnV"
      }
    },
    {
      "cell_type": "code",
      "source": [
        "tensor_A.shape,tensor_B.shape\n"
      ],
      "metadata": {
        "id": "WGQFVlRC37lP",
        "colab": {
          "base_uri": "https://localhost:8080/"
        },
        "outputId": "0773edc0-98a9-442d-e831-4d2a952b38ca"
      },
      "execution_count": 55,
      "outputs": [
        {
          "output_type": "execute_result",
          "data": {
            "text/plain": [
              "(torch.Size([3, 2]), torch.Size([3, 2]))"
            ]
          },
          "metadata": {},
          "execution_count": 55
        }
      ]
    },
    {
      "cell_type": "code",
      "source": [
        "tensor_B.shape, tensor_B"
      ],
      "metadata": {
        "id": "6Xmkvcyn5--B",
        "colab": {
          "base_uri": "https://localhost:8080/"
        },
        "outputId": "e7efc8a3-5fbd-4eb0-b49d-2bff7418817e"
      },
      "execution_count": 56,
      "outputs": [
        {
          "output_type": "execute_result",
          "data": {
            "text/plain": [
              "(torch.Size([3, 2]),\n",
              " tensor([[ 7, 10],\n",
              "         [ 8, 11],\n",
              "         [ 9, 12]]))"
            ]
          },
          "metadata": {},
          "execution_count": 56
        }
      ]
    },
    {
      "cell_type": "code",
      "source": [
        "tensor_B.T,tensor_B.T.shape"
      ],
      "metadata": {
        "id": "3o9t60vZ6GjS",
        "colab": {
          "base_uri": "https://localhost:8080/"
        },
        "outputId": "e9c11380-8f68-47a1-ffa8-0b6fb795b37b"
      },
      "execution_count": 57,
      "outputs": [
        {
          "output_type": "execute_result",
          "data": {
            "text/plain": [
              "(tensor([[ 7,  8,  9],\n",
              "         [10, 11, 12]]),\n",
              " torch.Size([2, 3]))"
            ]
          },
          "metadata": {},
          "execution_count": 57
        }
      ]
    },
    {
      "cell_type": "code",
      "source": [
        "#The matrix multiplication operation works when tensor_B is transposed\n",
        "print(f\"Original shapes: tensor_A={tensor_A.shape},tensor_B.T={tensor_B.T.shape}\")\n",
        "print(f\"New shapes: tensor_A={tensor_A.shape}(same shape as above ),tensor_B.T={tensor_B.T.shape}\")\n",
        "print(f\"Multiplying:{tensor_A.shape} @ {tensor_B.T.shape} <- inner dimensions must match\")\n",
        "print(f\"output:\\n\")\n",
        "output=torch.matmul(tensor_A,tensor_B.T)\n",
        "print(output)\n",
        "print(f\"\\noutput shape: {output.shape}\")\n"
      ],
      "metadata": {
        "id": "Z-mJ3ifR6g9j",
        "colab": {
          "base_uri": "https://localhost:8080/"
        },
        "outputId": "fe626d54-ea50-4ad4-ebf2-df6000dbe7ce"
      },
      "execution_count": 58,
      "outputs": [
        {
          "output_type": "stream",
          "name": "stdout",
          "text": [
            "Original shapes: tensor_A=torch.Size([3, 2]),tensor_B.T=torch.Size([2, 3])\n",
            "New shapes: tensor_A=torch.Size([3, 2])(same shape as above ),tensor_B.T=torch.Size([2, 3])\n",
            "Multiplying:torch.Size([3, 2]) @ torch.Size([2, 3]) <- inner dimensions must match\n",
            "output:\n",
            "\n",
            "tensor([[ 27,  30,  33],\n",
            "        [ 61,  68,  75],\n",
            "        [ 95, 106, 117]])\n",
            "\n",
            "output shape: torch.Size([3, 3])\n"
          ]
        }
      ]
    },
    {
      "cell_type": "code",
      "source": [],
      "metadata": {
        "id": "yRQpvl9h8not"
      },
      "execution_count": 58,
      "outputs": []
    },
    {
      "cell_type": "markdown",
      "source": [
        "FIND THE MIN,MAX,MEAN,SUM, ETC(TENSOR AGGREGATION)"
      ],
      "metadata": {
        "id": "a4F3RNWz83Y0"
      }
    },
    {
      "cell_type": "code",
      "source": [
        "#create tensor\n",
        "x=torch.arange(0,100,10)\n",
        "x\n",
        "x.dtype"
      ],
      "metadata": {
        "id": "NOZEFAYt8-zJ",
        "colab": {
          "base_uri": "https://localhost:8080/"
        },
        "outputId": "051eded4-f6c3-4b34-e7ae-c286266e6cab"
      },
      "execution_count": 59,
      "outputs": [
        {
          "output_type": "execute_result",
          "data": {
            "text/plain": [
              "torch.int64"
            ]
          },
          "metadata": {},
          "execution_count": 59
        }
      ]
    },
    {
      "cell_type": "code",
      "source": [
        "\n",
        "#FIND MIN\n",
        "torch.min(x),x.min()"
      ],
      "metadata": {
        "id": "pP6BSP8f9GRI",
        "colab": {
          "base_uri": "https://localhost:8080/"
        },
        "outputId": "0f374ea8-b243-4163-a95f-3d19b4c65e98"
      },
      "execution_count": 60,
      "outputs": [
        {
          "output_type": "execute_result",
          "data": {
            "text/plain": [
              "(tensor(0), tensor(0))"
            ]
          },
          "metadata": {},
          "execution_count": 60
        }
      ]
    },
    {
      "cell_type": "code",
      "source": [
        "#Find the max\n",
        "torch.max(x),x.max()\n"
      ],
      "metadata": {
        "id": "XS_DB03t9Uly",
        "colab": {
          "base_uri": "https://localhost:8080/"
        },
        "outputId": "3975fd31-423a-4fb0-d915-487bf6a80197"
      },
      "execution_count": 61,
      "outputs": [
        {
          "output_type": "execute_result",
          "data": {
            "text/plain": [
              "(tensor(90), tensor(90))"
            ]
          },
          "metadata": {},
          "execution_count": 61
        }
      ]
    },
    {
      "cell_type": "code",
      "source": [
        "#FIND MEAN NOTE: The torch.mean() function requires a tensor of float32 datatype so changing the type\n",
        "torch.mean(x.type(torch.float32)) #changing the type"
      ],
      "metadata": {
        "id": "XPID7KS49jPL",
        "colab": {
          "base_uri": "https://localhost:8080/"
        },
        "outputId": "10af1785-c6ed-4c8a-bc8c-dadfd4a36547"
      },
      "execution_count": 62,
      "outputs": [
        {
          "output_type": "execute_result",
          "data": {
            "text/plain": [
              "tensor(45.)"
            ]
          },
          "metadata": {},
          "execution_count": 62
        }
      ]
    },
    {
      "cell_type": "code",
      "source": [
        "#Find sum\n",
        "torch.sum(x),x.sum()"
      ],
      "metadata": {
        "id": "iVjCjISU9p1f",
        "colab": {
          "base_uri": "https://localhost:8080/"
        },
        "outputId": "b8a169de-0c59-46e2-d693-89070e65c522"
      },
      "execution_count": 63,
      "outputs": [
        {
          "output_type": "execute_result",
          "data": {
            "text/plain": [
              "(tensor(450), tensor(450))"
            ]
          },
          "metadata": {},
          "execution_count": 63
        }
      ]
    },
    {
      "cell_type": "code",
      "source": [],
      "metadata": {
        "id": "hZRFGvV1-vFf"
      },
      "execution_count": 63,
      "outputs": []
    },
    {
      "cell_type": "markdown",
      "source": [
        "FINDING THE POSITIONAL MIN AND MAX"
      ],
      "metadata": {
        "id": "xUKdkxAs-6kQ"
      }
    },
    {
      "cell_type": "code",
      "source": [
        "x"
      ],
      "metadata": {
        "id": "ZUPWxyfE--xY",
        "colab": {
          "base_uri": "https://localhost:8080/"
        },
        "outputId": "1a6d0ece-8ede-4208-e12c-6daac99bea34"
      },
      "execution_count": 64,
      "outputs": [
        {
          "output_type": "execute_result",
          "data": {
            "text/plain": [
              "tensor([ 0, 10, 20, 30, 40, 50, 60, 70, 80, 90])"
            ]
          },
          "metadata": {},
          "execution_count": 64
        }
      ]
    },
    {
      "cell_type": "code",
      "source": [
        "x.argmin() #Find the position in tensor that has the minimum value with the argmin()---> return index position of the target tensor where the minimum value occurs"
      ],
      "metadata": {
        "id": "kRDrwCvg_AdF",
        "colab": {
          "base_uri": "https://localhost:8080/"
        },
        "outputId": "cff0b445-2ffa-4373-fed0-cee780cc4c7c"
      },
      "execution_count": 65,
      "outputs": [
        {
          "output_type": "execute_result",
          "data": {
            "text/plain": [
              "tensor(0)"
            ]
          },
          "metadata": {},
          "execution_count": 65
        }
      ]
    },
    {
      "cell_type": "code",
      "source": [
        "x[0]"
      ],
      "metadata": {
        "id": "jKg5fBmA_B3u",
        "colab": {
          "base_uri": "https://localhost:8080/"
        },
        "outputId": "eaae1afc-fb9b-4778-e213-f610d90255ee"
      },
      "execution_count": 66,
      "outputs": [
        {
          "output_type": "execute_result",
          "data": {
            "text/plain": [
              "tensor(0)"
            ]
          },
          "metadata": {},
          "execution_count": 66
        }
      ]
    },
    {
      "cell_type": "code",
      "source": [
        "# Find the position in tensor that has the maximum value with the argmax()---> return index position of the target tensor where the maximum value occurs\n",
        "x.argmax()"
      ],
      "metadata": {
        "id": "8ZX1SOz8_kft",
        "colab": {
          "base_uri": "https://localhost:8080/"
        },
        "outputId": "6d5757d8-d13b-4dd8-e176-056552f323d4"
      },
      "execution_count": 67,
      "outputs": [
        {
          "output_type": "execute_result",
          "data": {
            "text/plain": [
              "tensor(9)"
            ]
          },
          "metadata": {},
          "execution_count": 67
        }
      ]
    },
    {
      "cell_type": "code",
      "source": [],
      "metadata": {
        "id": "dek4DgJU_90T"
      },
      "execution_count": 67,
      "outputs": []
    },
    {
      "cell_type": "markdown",
      "source": [
        "#RESHAPING,STACKING,SQUEEZING,UNSQUEEZING TENSORS\n",
        "\n",
        "*Reshaping-Reshapes an input tensor to a defined shape\n",
        "*View-Return view of an input tensor of certain shape but keep the same memory as the original tensor\n",
        "*Stacking-Combine multiple tensors on top of each other(vstack) or side by side(hstack)\n",
        "*Squeeze-Removes all '1' dimensions from a tensor\n",
        "\n"
      ],
      "metadata": {
        "id": "x3saY_7EvSc6"
      }
    },
    {
      "cell_type": "code",
      "source": [
        "#Let\"s create a tensor\n",
        "import torch\n",
        "x=torch.arange(1.,10.)\n",
        "x,x.shape"
      ],
      "metadata": {
        "id": "zWTmbSVN_zWh",
        "colab": {
          "base_uri": "https://localhost:8080/"
        },
        "outputId": "572cc8fc-5414-48c7-d731-d62c55b50702"
      },
      "execution_count": 68,
      "outputs": [
        {
          "output_type": "execute_result",
          "data": {
            "text/plain": [
              "(tensor([1., 2., 3., 4., 5., 6., 7., 8., 9.]), torch.Size([9]))"
            ]
          },
          "metadata": {},
          "execution_count": 68
        }
      ]
    },
    {
      "cell_type": "code",
      "source": [
        "#Add an extra dimension\n",
        "x_reshaped=x.reshape(9,1)\n",
        "x_reshaped,x_reshaped.shape"
      ],
      "metadata": {
        "colab": {
          "base_uri": "https://localhost:8080/"
        },
        "id": "fkQxCOgLwzMQ",
        "outputId": "fe19cd28-4976-4f67-84ae-9a12e6a3d45d"
      },
      "execution_count": 69,
      "outputs": [
        {
          "output_type": "execute_result",
          "data": {
            "text/plain": [
              "(tensor([[1.],\n",
              "         [2.],\n",
              "         [3.],\n",
              "         [4.],\n",
              "         [5.],\n",
              "         [6.],\n",
              "         [7.],\n",
              "         [8.],\n",
              "         [9.]]),\n",
              " torch.Size([9, 1]))"
            ]
          },
          "metadata": {},
          "execution_count": 69
        }
      ]
    },
    {
      "cell_type": "code",
      "source": [
        "x_reshaped=x.reshape(1,9)\n",
        "x_reshaped,x_reshaped.shape"
      ],
      "metadata": {
        "colab": {
          "base_uri": "https://localhost:8080/"
        },
        "id": "yeVPdjubx4VH",
        "outputId": "4df219ef-25a4-4317-ad4f-ebcaa22c18b9"
      },
      "execution_count": 70,
      "outputs": [
        {
          "output_type": "execute_result",
          "data": {
            "text/plain": [
              "(tensor([[1., 2., 3., 4., 5., 6., 7., 8., 9.]]), torch.Size([1, 9]))"
            ]
          },
          "metadata": {},
          "execution_count": 70
        }
      ]
    },
    {
      "cell_type": "code",
      "source": [
        "\n",
        "#Change the view\n",
        "z=x.view(1,9)\n",
        "z,z.shape\n"
      ],
      "metadata": {
        "colab": {
          "base_uri": "https://localhost:8080/"
        },
        "id": "53guiW_cxUwb",
        "outputId": "ee28fa76-5493-4047-ef8c-f9e074bb867f"
      },
      "execution_count": 71,
      "outputs": [
        {
          "output_type": "execute_result",
          "data": {
            "text/plain": [
              "(tensor([[1., 2., 3., 4., 5., 6., 7., 8., 9.]]), torch.Size([1, 9]))"
            ]
          },
          "metadata": {},
          "execution_count": 71
        }
      ]
    },
    {
      "cell_type": "code",
      "source": [
        "# Changing z changes x (Because a view of a tensor shares the same memory as the original tensor)\n",
        "z[:,0]=5\n",
        "z,x"
      ],
      "metadata": {
        "colab": {
          "base_uri": "https://localhost:8080/"
        },
        "id": "uv437003xzcu",
        "outputId": "7078b802-dff7-4a6f-ea0b-b31bad86fda5"
      },
      "execution_count": 72,
      "outputs": [
        {
          "output_type": "execute_result",
          "data": {
            "text/plain": [
              "(tensor([[5., 2., 3., 4., 5., 6., 7., 8., 9.]]),\n",
              " tensor([5., 2., 3., 4., 5., 6., 7., 8., 9.]))"
            ]
          },
          "metadata": {},
          "execution_count": 72
        }
      ]
    },
    {
      "cell_type": "code",
      "source": [
        "#Stack tensors on top of each other\n",
        "x_stacked=torch.stack([x,x,x,x],dim=0)\n",
        "x_stacked"
      ],
      "metadata": {
        "colab": {
          "base_uri": "https://localhost:8080/"
        },
        "id": "cYx-OJ810fLE",
        "outputId": "59cd48ea-d3c1-422d-de52-f697ed927c60"
      },
      "execution_count": 73,
      "outputs": [
        {
          "output_type": "execute_result",
          "data": {
            "text/plain": [
              "tensor([[5., 2., 3., 4., 5., 6., 7., 8., 9.],\n",
              "        [5., 2., 3., 4., 5., 6., 7., 8., 9.],\n",
              "        [5., 2., 3., 4., 5., 6., 7., 8., 9.],\n",
              "        [5., 2., 3., 4., 5., 6., 7., 8., 9.]])"
            ]
          },
          "metadata": {},
          "execution_count": 73
        }
      ]
    },
    {
      "cell_type": "code",
      "source": [
        "\n",
        "x_stacked=torch.stack([x,x,x,x],dim=1)\n",
        "x_stacked"
      ],
      "metadata": {
        "colab": {
          "base_uri": "https://localhost:8080/"
        },
        "id": "VcLDTxOW04M6",
        "outputId": "67f8127b-e796-49ff-b03e-2e73183f9705"
      },
      "execution_count": 74,
      "outputs": [
        {
          "output_type": "execute_result",
          "data": {
            "text/plain": [
              "tensor([[5., 5., 5., 5.],\n",
              "        [2., 2., 2., 2.],\n",
              "        [3., 3., 3., 3.],\n",
              "        [4., 4., 4., 4.],\n",
              "        [5., 5., 5., 5.],\n",
              "        [6., 6., 6., 6.],\n",
              "        [7., 7., 7., 7.],\n",
              "        [8., 8., 8., 8.],\n",
              "        [9., 9., 9., 9.]])"
            ]
          },
          "metadata": {},
          "execution_count": 74
        }
      ]
    },
    {
      "cell_type": "code",
      "source": [
        "#torch.squeeze()-removes all single dimensions from a target tensor\n",
        "x_reshaped\n",
        "x_reshaped.shape"
      ],
      "metadata": {
        "colab": {
          "base_uri": "https://localhost:8080/"
        },
        "id": "oOXcucSrtD6_",
        "outputId": "644abedb-74b5-44a1-81f1-3e41c0a5c2db"
      },
      "execution_count": 75,
      "outputs": [
        {
          "output_type": "execute_result",
          "data": {
            "text/plain": [
              "torch.Size([1, 9])"
            ]
          },
          "metadata": {},
          "execution_count": 75
        }
      ]
    },
    {
      "cell_type": "code",
      "source": [
        "#torch.squeeze()-removes all single dimensions from a target tensor\n",
        "\n",
        "print(f\"Previous tensor:{x_reshaped}\")\n",
        "print(f\"Previous shape:{x_reshaped.shape}\")\n",
        "\n",
        "# Remove extra dimensions from x_reshaped\n",
        "x_squeezed=x_reshaped.squeeze()\n",
        "print(f\"\\nNew tensor:{x_squeezed}\")\n",
        "print(f\"New shape:{x_squeezed.shape}\")\n",
        "\n"
      ],
      "metadata": {
        "colab": {
          "base_uri": "https://localhost:8080/"
        },
        "id": "7FiAcTGq08eO",
        "outputId": "1cc76992-9b0c-43d8-fb59-7378f5bfe08d"
      },
      "execution_count": 76,
      "outputs": [
        {
          "output_type": "stream",
          "name": "stdout",
          "text": [
            "Previous tensor:tensor([[5., 2., 3., 4., 5., 6., 7., 8., 9.]])\n",
            "Previous shape:torch.Size([1, 9])\n",
            "\n",
            "New tensor:tensor([5., 2., 3., 4., 5., 6., 7., 8., 9.])\n",
            "New shape:torch.Size([9])\n"
          ]
        }
      ]
    },
    {
      "cell_type": "code",
      "source": [
        "\n",
        "x_reshaped.squeeze()"
      ],
      "metadata": {
        "colab": {
          "base_uri": "https://localhost:8080/"
        },
        "id": "-uuVaO8w1AmM",
        "outputId": "f801551e-e4e9-4ee1-c648-b5bb6b1bff50"
      },
      "execution_count": 77,
      "outputs": [
        {
          "output_type": "execute_result",
          "data": {
            "text/plain": [
              "tensor([5., 2., 3., 4., 5., 6., 7., 8., 9.])"
            ]
          },
          "metadata": {},
          "execution_count": 77
        }
      ]
    },
    {
      "cell_type": "code",
      "source": [
        "x_reshaped.squeeze().shape"
      ],
      "metadata": {
        "colab": {
          "base_uri": "https://localhost:8080/"
        },
        "id": "wPKmY13w2GbT",
        "outputId": "4b974ceb-2118-4b7c-a161-e3372a79b32d"
      },
      "execution_count": 78,
      "outputs": [
        {
          "output_type": "execute_result",
          "data": {
            "text/plain": [
              "torch.Size([9])"
            ]
          },
          "metadata": {},
          "execution_count": 78
        }
      ]
    },
    {
      "cell_type": "code",
      "source": [
        "#torch.unsqueeze()--Adds a single dimension to a target tensor to a target tensor at a specific dimensions\n",
        "print(f\"Previous target:{x_squeezed}\")\n",
        "print(f\"Previous shape:{x_squeezed.shape}\")\n",
        "\n",
        "#Add an extra dimension with unsqueeze\n",
        "x_unsqueezed=x_squeezed.unsqueeze(dim=1)\n",
        "print(f\"\\nNew tensor:{x_unsqueezed}\")\n",
        "print(f\"New shape:{x_unsqueezed.shape}\")\n",
        "\n",
        "\n"
      ],
      "metadata": {
        "colab": {
          "base_uri": "https://localhost:8080/"
        },
        "id": "IIH9YySE2Kdz",
        "outputId": "46d28385-c59f-4610-b198-3f658bd5063b"
      },
      "execution_count": 79,
      "outputs": [
        {
          "output_type": "stream",
          "name": "stdout",
          "text": [
            "Previous target:tensor([5., 2., 3., 4., 5., 6., 7., 8., 9.])\n",
            "Previous shape:torch.Size([9])\n",
            "\n",
            "New tensor:tensor([[5.],\n",
            "        [2.],\n",
            "        [3.],\n",
            "        [4.],\n",
            "        [5.],\n",
            "        [6.],\n",
            "        [7.],\n",
            "        [8.],\n",
            "        [9.]])\n",
            "New shape:torch.Size([9, 1])\n"
          ]
        }
      ]
    },
    {
      "cell_type": "code",
      "source": [
        "#torch.permute-rearranges the dimensions of a target tensor in a specified order\n",
        "x_original=torch.rand(size=(224,224,3)) #[height,width,color_channels]\n",
        "\n",
        "\n",
        " #Permute the original tensor to rearrange the axis (or dim) order\n",
        "x_permuted=x_original.permute(2,0,1)\n",
        "\n",
        "print(f\"Previous shape:{x_original.shape}\")\n",
        "print(f\"New shape:{x_permuted.shape}\")   #[colour_channels,height,width]\n",
        "\n"
      ],
      "metadata": {
        "colab": {
          "base_uri": "https://localhost:8080/"
        },
        "id": "NWYZbXFbsasF",
        "outputId": "f9a2e3fd-7ff7-407f-bcfa-6ed6ca4777bc"
      },
      "execution_count": 80,
      "outputs": [
        {
          "output_type": "stream",
          "name": "stdout",
          "text": [
            "Previous shape:torch.Size([224, 224, 3])\n",
            "New shape:torch.Size([3, 224, 224])\n"
          ]
        }
      ]
    },
    {
      "cell_type": "code",
      "source": [
        "x_original"
      ],
      "metadata": {
        "colab": {
          "base_uri": "https://localhost:8080/"
        },
        "id": "9ZMCvd9e1Ubh",
        "outputId": "506a76f2-e7f2-4870-f3b1-ca4b9739417f"
      },
      "execution_count": 81,
      "outputs": [
        {
          "output_type": "execute_result",
          "data": {
            "text/plain": [
              "tensor([[[0.5855, 0.4367, 0.7037],\n",
              "         [0.9647, 0.7454, 0.4800],\n",
              "         [0.2309, 0.1966, 0.4494],\n",
              "         ...,\n",
              "         [0.6702, 0.6160, 0.5880],\n",
              "         [0.7841, 0.6325, 0.7730],\n",
              "         [0.2324, 0.7391, 0.8509]],\n",
              "\n",
              "        [[0.1875, 0.3209, 0.2783],\n",
              "         [0.8401, 0.8446, 0.8204],\n",
              "         [0.5953, 0.1311, 0.4848],\n",
              "         ...,\n",
              "         [0.8117, 0.7113, 0.6480],\n",
              "         [0.6197, 0.8419, 0.0362],\n",
              "         [0.8080, 0.3078, 0.3207]],\n",
              "\n",
              "        [[0.5259, 0.4284, 0.5076],\n",
              "         [0.6279, 0.9512, 0.2431],\n",
              "         [0.3479, 0.3008, 0.9219],\n",
              "         ...,\n",
              "         [0.3743, 0.1084, 0.5977],\n",
              "         [0.1090, 0.0748, 0.2867],\n",
              "         [0.4979, 0.8616, 0.0092]],\n",
              "\n",
              "        ...,\n",
              "\n",
              "        [[0.0337, 0.5237, 0.0647],\n",
              "         [0.6982, 0.2769, 0.1731],\n",
              "         [0.6018, 0.4118, 0.1383],\n",
              "         ...,\n",
              "         [0.3202, 0.7046, 0.7689],\n",
              "         [0.1102, 0.3246, 0.9583],\n",
              "         [0.8006, 0.3471, 0.3027]],\n",
              "\n",
              "        [[0.7749, 0.4343, 0.1387],\n",
              "         [0.1213, 0.7673, 0.1404],\n",
              "         [0.4559, 0.4385, 0.2625],\n",
              "         ...,\n",
              "         [0.9921, 0.8194, 0.1306],\n",
              "         [0.2291, 0.0450, 0.3923],\n",
              "         [0.6111, 0.9678, 0.1805]],\n",
              "\n",
              "        [[0.3162, 0.1047, 0.7552],\n",
              "         [0.1275, 0.7800, 0.0020],\n",
              "         [0.5098, 0.1107, 0.5000],\n",
              "         ...,\n",
              "         [0.9997, 0.9831, 0.1223],\n",
              "         [0.5889, 0.2712, 0.1384],\n",
              "         [0.3612, 0.0510, 0.3462]]])"
            ]
          },
          "metadata": {},
          "execution_count": 81
        }
      ]
    },
    {
      "cell_type": "code",
      "source": [
        "x_original[0,0,0]=728218\n",
        "x_original[0,0,0],x_permuted[0,0,0]"
      ],
      "metadata": {
        "colab": {
          "base_uri": "https://localhost:8080/"
        },
        "id": "jQOfTj7_3Jhu",
        "outputId": "d8070ba6-a7f4-4547-a005-e9ac21eaf025"
      },
      "execution_count": 82,
      "outputs": [
        {
          "output_type": "execute_result",
          "data": {
            "text/plain": [
              "(tensor(728218.), tensor(728218.))"
            ]
          },
          "metadata": {},
          "execution_count": 82
        }
      ]
    },
    {
      "cell_type": "markdown",
      "source": [
        "#Indexing(selecting data from tensors)\n",
        "###Indexing with Pytorch is similar to indexing with NumPy"
      ],
      "metadata": {
        "id": "YwIRkPpf3r5Z"
      }
    },
    {
      "cell_type": "code",
      "source": [
        "#Create a tensor\n",
        "import torch\n",
        "x=torch.arange(1,10).reshape(1,3,3)\n",
        "x"
      ],
      "metadata": {
        "colab": {
          "base_uri": "https://localhost:8080/"
        },
        "id": "p4tSQtqL3T7M",
        "outputId": "e165b16b-f57d-4bbd-e852-1805968ba2da"
      },
      "execution_count": 83,
      "outputs": [
        {
          "output_type": "execute_result",
          "data": {
            "text/plain": [
              "tensor([[[1, 2, 3],\n",
              "         [4, 5, 6],\n",
              "         [7, 8, 9]]])"
            ]
          },
          "metadata": {},
          "execution_count": 83
        }
      ]
    },
    {
      "cell_type": "code",
      "source": [
        "x.shape"
      ],
      "metadata": {
        "colab": {
          "base_uri": "https://localhost:8080/"
        },
        "id": "dGLfeWdo4O2F",
        "outputId": "ba60b90b-6fcc-43e1-9bbb-977f6e2d3395"
      },
      "execution_count": 84,
      "outputs": [
        {
          "output_type": "execute_result",
          "data": {
            "text/plain": [
              "torch.Size([1, 3, 3])"
            ]
          },
          "metadata": {},
          "execution_count": 84
        }
      ]
    },
    {
      "cell_type": "code",
      "source": [
        "x.reshape(1,3,3)\n"
      ],
      "metadata": {
        "colab": {
          "base_uri": "https://localhost:8080/"
        },
        "id": "mz1a90Ms4Srn",
        "outputId": "c62d4610-e82b-409e-dfef-cfef972ece32"
      },
      "execution_count": 85,
      "outputs": [
        {
          "output_type": "execute_result",
          "data": {
            "text/plain": [
              "tensor([[[1, 2, 3],\n",
              "         [4, 5, 6],\n",
              "         [7, 8, 9]]])"
            ]
          },
          "metadata": {},
          "execution_count": 85
        }
      ]
    },
    {
      "cell_type": "code",
      "source": [
        "# Lets index on our new tensor\n",
        "x[0][0]"
      ],
      "metadata": {
        "colab": {
          "base_uri": "https://localhost:8080/"
        },
        "id": "rSYVSzEq5Whb",
        "outputId": "d5cc702d-d2b6-46ab-dde1-b79a914297a1"
      },
      "execution_count": 86,
      "outputs": [
        {
          "output_type": "execute_result",
          "data": {
            "text/plain": [
              "tensor([1, 2, 3])"
            ]
          },
          "metadata": {},
          "execution_count": 86
        }
      ]
    },
    {
      "cell_type": "code",
      "source": [
        "# Let's index on the middle bracket(dim=1)\n",
        "x[0,0]\n"
      ],
      "metadata": {
        "colab": {
          "base_uri": "https://localhost:8080/"
        },
        "id": "zcQCSjSe5eGU",
        "outputId": "70e2eccf-78c9-4961-d338-e926d0a230b6"
      },
      "execution_count": 87,
      "outputs": [
        {
          "output_type": "execute_result",
          "data": {
            "text/plain": [
              "tensor([1, 2, 3])"
            ]
          },
          "metadata": {},
          "execution_count": 87
        }
      ]
    },
    {
      "cell_type": "code",
      "source": [
        "#Let's index on the most inner bracket(last dimnsion)\n",
        "x[0][1][1]"
      ],
      "metadata": {
        "colab": {
          "base_uri": "https://localhost:8080/"
        },
        "id": "2AKKqzjv58ov",
        "outputId": "0f52a995-68e1-4aae-cbd9-90319698a062"
      },
      "execution_count": 88,
      "outputs": [
        {
          "output_type": "execute_result",
          "data": {
            "text/plain": [
              "tensor(5)"
            ]
          },
          "metadata": {},
          "execution_count": 88
        }
      ]
    },
    {
      "cell_type": "code",
      "source": [
        "# You can also use \":\" to select \"all\" of a target dimension\n",
        "x[:,0]"
      ],
      "metadata": {
        "colab": {
          "base_uri": "https://localhost:8080/"
        },
        "id": "q5Z_sonK6drB",
        "outputId": "f472d614-c46e-43f9-b50b-1b6b3afc5acb"
      },
      "execution_count": 89,
      "outputs": [
        {
          "output_type": "execute_result",
          "data": {
            "text/plain": [
              "tensor([[1, 2, 3]])"
            ]
          },
          "metadata": {},
          "execution_count": 89
        }
      ]
    },
    {
      "cell_type": "code",
      "source": [
        "# Get all values 0th and 1st dimensions but only index 1 and 2nd dimension\n",
        "x[:,:,1]"
      ],
      "metadata": {
        "colab": {
          "base_uri": "https://localhost:8080/"
        },
        "id": "O6a_LWp27d4n",
        "outputId": "98e7b32b-ef1d-4d25-859b-92b1653a337a"
      },
      "execution_count": 90,
      "outputs": [
        {
          "output_type": "execute_result",
          "data": {
            "text/plain": [
              "tensor([[2, 5, 8]])"
            ]
          },
          "metadata": {},
          "execution_count": 90
        }
      ]
    },
    {
      "cell_type": "code",
      "source": [
        "# Get all values of the 0 dimension but only the 1 index value of 1st and 2nd dimension\n",
        "x[:,1,1]"
      ],
      "metadata": {
        "colab": {
          "base_uri": "https://localhost:8080/"
        },
        "id": "CsTBM0y17rm5",
        "outputId": "67ce0054-7eb0-4f4a-9331-020d4e921b1a"
      },
      "execution_count": 91,
      "outputs": [
        {
          "output_type": "execute_result",
          "data": {
            "text/plain": [
              "tensor([5])"
            ]
          },
          "metadata": {},
          "execution_count": 91
        }
      ]
    },
    {
      "cell_type": "code",
      "source": [
        "#Get index 0 of the 0th and 1st dimension and all values of 2nd dimension\n",
        "x[0,1,:]"
      ],
      "metadata": {
        "colab": {
          "base_uri": "https://localhost:8080/"
        },
        "id": "T-Zpf-w28V23",
        "outputId": "3222f2f5-398b-4fdf-b807-e1d23148d20b"
      },
      "execution_count": 92,
      "outputs": [
        {
          "output_type": "execute_result",
          "data": {
            "text/plain": [
              "tensor([4, 5, 6])"
            ]
          },
          "metadata": {},
          "execution_count": 92
        }
      ]
    },
    {
      "cell_type": "code",
      "source": [
        "#Index on x to return\n",
        "print(x[0][2][2])\n",
        "\n",
        "#Index on x to return 3,6,9\n",
        "print(x[:,:,2])"
      ],
      "metadata": {
        "colab": {
          "base_uri": "https://localhost:8080/"
        },
        "id": "8fvYrKLx8pOg",
        "outputId": "eec877a6-57fa-48ca-f8da-51ea4036d5ac"
      },
      "execution_count": 93,
      "outputs": [
        {
          "output_type": "stream",
          "name": "stdout",
          "text": [
            "tensor(9)\n",
            "tensor([[3, 6, 9]])\n"
          ]
        }
      ]
    },
    {
      "cell_type": "markdown",
      "source": [
        "#PyTorch tensors and NumPy\n",
        "NumPy is a popular scientific Python numerical computing library.\n",
        "and because of this ,Pytorch has functionality to interact with it.\n",
        "* Data in NumPy,want in Pytorch tensor-\"torch.from_numpy(ndarray)\"\n",
        "*Pytorch tensor-> Numpy->\"torch.Tensor.numpy()\""
      ],
      "metadata": {
        "id": "fIwMergy9pgT"
      }
    },
    {
      "cell_type": "code",
      "source": [
        "#NumPy array to tensor\n",
        "import torch\n",
        "import numpy as np\n",
        "array=np.arange(1.0,8.0)\n",
        "tensor=torch.from_numpy(array)\n",
        "array,tensor\n"
      ],
      "metadata": {
        "colab": {
          "base_uri": "https://localhost:8080/"
        },
        "id": "bnysJK3J_KKF",
        "outputId": "ed22a402-cc09-4850-9922-e00480580a82"
      },
      "execution_count": 94,
      "outputs": [
        {
          "output_type": "execute_result",
          "data": {
            "text/plain": [
              "(array([1., 2., 3., 4., 5., 6., 7.]),\n",
              " tensor([1., 2., 3., 4., 5., 6., 7.], dtype=torch.float64))"
            ]
          },
          "metadata": {},
          "execution_count": 94
        }
      ]
    },
    {
      "cell_type": "code",
      "source": [
        "array.dtype"
      ],
      "metadata": {
        "colab": {
          "base_uri": "https://localhost:8080/"
        },
        "id": "9A05KSGpAUSl",
        "outputId": "51ed637d-0120-4b93-d491-14cb8434ae1b"
      },
      "execution_count": 95,
      "outputs": [
        {
          "output_type": "execute_result",
          "data": {
            "text/plain": [
              "dtype('float64')"
            ]
          },
          "metadata": {},
          "execution_count": 95
        }
      ]
    },
    {
      "cell_type": "code",
      "source": [
        "#Change the value of array,what will this do to 'tensor'\n",
        "array=array+1\n",
        "array,tensor"
      ],
      "metadata": {
        "colab": {
          "base_uri": "https://localhost:8080/"
        },
        "id": "G4hPx_iWAe7A",
        "outputId": "df75370b-a8da-4623-bf4c-ea31dc835d32"
      },
      "execution_count": 96,
      "outputs": [
        {
          "output_type": "execute_result",
          "data": {
            "text/plain": [
              "(array([2., 3., 4., 5., 6., 7., 8.]),\n",
              " tensor([1., 2., 3., 4., 5., 6., 7.], dtype=torch.float64))"
            ]
          },
          "metadata": {},
          "execution_count": 96
        }
      ]
    },
    {
      "cell_type": "code",
      "source": [
        "#Tensor to NumPy ARRAY\n",
        "tensor=torch.ones(7)\n",
        "numpy_tensor=tensor.numpy()\n",
        "tensor,numpy_tensor"
      ],
      "metadata": {
        "colab": {
          "base_uri": "https://localhost:8080/"
        },
        "id": "zEi3VPS5B6wO",
        "outputId": "698b3580-1e4f-40b1-ecbb-fb4906e60f4b"
      },
      "execution_count": 97,
      "outputs": [
        {
          "output_type": "execute_result",
          "data": {
            "text/plain": [
              "(tensor([1., 1., 1., 1., 1., 1., 1.]),\n",
              " array([1., 1., 1., 1., 1., 1., 1.], dtype=float32))"
            ]
          },
          "metadata": {},
          "execution_count": 97
        }
      ]
    },
    {
      "cell_type": "markdown",
      "source": [
        "##Reproducability(trying to take random out of random)\n",
        "In short how a neural network learns:\n",
        "**start with a random numbers-> tensor operations->update random numbers to try and make them of the data->again->again->...**\n",
        "*To reduce the randomness in neural networks and Pytorch comes the concept of **random seed***"
      ],
      "metadata": {
        "id": "meZj-EYhDY1Z"
      }
    },
    {
      "cell_type": "code",
      "source": [
        "torch.rand(3,3)"
      ],
      "metadata": {
        "colab": {
          "base_uri": "https://localhost:8080/"
        },
        "id": "fKvy6Ep1CJ9C",
        "outputId": "e929dbe8-2186-42b7-933b-0ef8882f10ea"
      },
      "execution_count": 98,
      "outputs": [
        {
          "output_type": "execute_result",
          "data": {
            "text/plain": [
              "tensor([[3.3091e-01, 2.3263e-02, 8.0207e-01],\n",
              "        [3.1062e-01, 3.5141e-02, 1.6755e-04],\n",
              "        [9.1511e-01, 5.5983e-01, 2.2449e-01]])"
            ]
          },
          "metadata": {},
          "execution_count": 98
        }
      ]
    },
    {
      "cell_type": "code",
      "source": [
        "import torch\n",
        "random_tensor_A=torch.rand(3,4)\n",
        "random_tensor_B=torch.rand(3,4)\n",
        "\n",
        "print(random_tensor_A)\n",
        "print(random_tensor_B)\n",
        "print(random_tensor_A==random_tensor_B)"
      ],
      "metadata": {
        "id": "PldtbrruF5vO",
        "colab": {
          "base_uri": "https://localhost:8080/"
        },
        "outputId": "903f801a-0d7d-49cf-b525-dd7b44a98622"
      },
      "execution_count": 106,
      "outputs": [
        {
          "output_type": "stream",
          "name": "stdout",
          "text": [
            "tensor([[0.3859, 0.6061, 0.0447, 0.9365],\n",
            "        [0.3264, 0.3164, 0.3537, 0.2412],\n",
            "        [0.0201, 0.6736, 0.6413, 0.2283]])\n",
            "tensor([[0.1007, 0.3849, 0.1698, 0.0895],\n",
            "        [0.0481, 0.3217, 0.1208, 0.6744],\n",
            "        [0.2454, 0.1364, 0.4224, 0.0256]])\n",
            "tensor([[False, False, False, False],\n",
            "        [False, False, False, False],\n",
            "        [False, False, False, False]])\n"
          ]
        }
      ]
    },
    {
      "cell_type": "code",
      "source": [
        "#Let's make some random but reproducible tensors\n",
        "import torch\n",
        "\n",
        "#Set the random seed\n",
        "RANDOM_SEED=42\n",
        "torch.manual_seed(RANDOM_SEED)\n",
        "random_tensor_C=torch.rand(3,4)\n",
        "random_tensor_D=torch.rand(3,4)\n",
        "print(random_tensor_C)\n",
        "print(random_tensor_D)\n",
        "print(random_tensor_C==random_tensor_D)"
      ],
      "metadata": {
        "id": "xHPnr54WGSOv",
        "colab": {
          "base_uri": "https://localhost:8080/"
        },
        "outputId": "63971739-a1bf-4842-a463-0daf90ff1b1b"
      },
      "execution_count": 108,
      "outputs": [
        {
          "output_type": "stream",
          "name": "stdout",
          "text": [
            "tensor([[0.8823, 0.9150, 0.3829, 0.9593],\n",
            "        [0.3904, 0.6009, 0.2566, 0.7936],\n",
            "        [0.9408, 0.1332, 0.9346, 0.5936]])\n",
            "tensor([[0.8694, 0.5677, 0.7411, 0.4294],\n",
            "        [0.8854, 0.5739, 0.2666, 0.6274],\n",
            "        [0.2696, 0.4414, 0.2969, 0.8317]])\n",
            "tensor([[False, False, False, False],\n",
            "        [False, False, False, False],\n",
            "        [False, False, False, False]])\n"
          ]
        }
      ]
    },
    {
      "cell_type": "markdown",
      "source": [
        "EXTRA RESOURCES for REPRODUCIBILITY\n",
        "*https://pytorch.org/docs/stable/notes/randomness.html"
      ],
      "metadata": {
        "id": "JQbrxZYNpZn7"
      }
    },
    {
      "cell_type": "markdown",
      "source": [
        "###Running Tensors and PyTorch objects on the GPUs(and making faster computations)\n",
        "GPUs=faster computations on numbers thanks to CUDA+NVIDIA hardware+ PyTorch working behind the scenes to make everything hunky dory(good)"
      ],
      "metadata": {
        "id": "f2GJgAFcpw9t"
      }
    },
    {
      "cell_type": "code",
      "source": [
        "\n",
        "!nvidia-smi"
      ],
      "metadata": {
        "colab": {
          "base_uri": "https://localhost:8080/"
        },
        "id": "cdno-JhfraE3",
        "outputId": "1e87f3dc-5dfa-42ca-accc-7b96bb258c0b"
      },
      "execution_count": 110,
      "outputs": [
        {
          "output_type": "stream",
          "name": "stdout",
          "text": [
            "/bin/bash: line 1: nvidia-smi: command not found\n"
          ]
        }
      ]
    },
    {
      "cell_type": "code",
      "source": [
        "# @title Default title text\n",
        "#CHECK FOR GPU ACCESS WITH PYTORCH\n",
        "import torch\n",
        "torch.cuda.is_available()\n"
      ],
      "metadata": {
        "colab": {
          "base_uri": "https://localhost:8080/"
        },
        "id": "MO7S6DpnsAcw",
        "outputId": "c0e8b1a7-1595-4c09-d0af-1265988e138f"
      },
      "execution_count": 111,
      "outputs": [
        {
          "output_type": "execute_result",
          "data": {
            "text/plain": [
              "False"
            ]
          },
          "metadata": {},
          "execution_count": 111
        }
      ]
    }
  ]
}